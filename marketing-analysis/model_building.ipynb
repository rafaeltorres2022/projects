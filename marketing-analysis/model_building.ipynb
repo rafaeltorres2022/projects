{
 "cells": [
  {
   "cell_type": "markdown",
   "metadata": {},
   "source": [
    "# Imports"
   ]
  },
  {
   "cell_type": "code",
   "execution_count": 43,
   "metadata": {},
   "outputs": [],
   "source": [
    "import pandas as pd\n",
    "import numpy as np\n",
    "import seaborn as sns\n",
    "import optuna\n",
    "\n",
    "from sklearn.pipeline import Pipeline\n",
    "from sklearn.feature_selection import (\n",
    "    SelectFromModel,\n",
    "    SelectKBest,\n",
    "    chi2,\n",
    "    SelectPercentile,\n",
    ")\n",
    "from sklearn.model_selection import train_test_split, cross_val_score\n",
    "from sklearn.preprocessing import StandardScaler, OneHotEncoder\n",
    "from sklearn.metrics import classification_report, f1_score\n",
    "from sklearn.linear_model import LassoCV, LogisticRegressionCV\n",
    "from sklearn.dummy import DummyClassifier\n",
    "from sklearn.ensemble import RandomForestClassifier\n",
    "from sklearn.compose import ColumnTransformer\n",
    "from sklearn.neural_network import MLPClassifier\n",
    "\n",
    "from imblearn.over_sampling import SMOTE\n",
    "from imblearn.pipeline import Pipeline as imb_Pipeline\n",
    "\n",
    "from xgboost import XGBClassifier\n",
    "from lightgbm import LGBMClassifier, plot_importance"
   ]
  },
  {
   "cell_type": "code",
   "execution_count": 2,
   "metadata": {},
   "outputs": [
    {
     "data": {
      "text/html": [
       "<div>\n",
       "<style scoped>\n",
       "    .dataframe tbody tr th:only-of-type {\n",
       "        vertical-align: middle;\n",
       "    }\n",
       "\n",
       "    .dataframe tbody tr th {\n",
       "        vertical-align: top;\n",
       "    }\n",
       "\n",
       "    .dataframe thead th {\n",
       "        text-align: right;\n",
       "    }\n",
       "</style>\n",
       "<table border=\"1\" class=\"dataframe\">\n",
       "  <thead>\n",
       "    <tr style=\"text-align: right;\">\n",
       "      <th></th>\n",
       "      <th>Income</th>\n",
       "      <th>Kidhome</th>\n",
       "      <th>Teenhome</th>\n",
       "      <th>Recency</th>\n",
       "      <th>MntWines</th>\n",
       "      <th>MntFruits</th>\n",
       "      <th>MntMeatProducts</th>\n",
       "      <th>MntFishProducts</th>\n",
       "      <th>MntSweetProducts</th>\n",
       "      <th>MntGoldProds</th>\n",
       "      <th>...</th>\n",
       "      <th>education_Master</th>\n",
       "      <th>education_PhD</th>\n",
       "      <th>MntRegularProds</th>\n",
       "      <th>AcceptedCmpOverall</th>\n",
       "      <th>MinorsAtHome</th>\n",
       "      <th>TotalMntSpent</th>\n",
       "      <th>marital_status</th>\n",
       "      <th>education</th>\n",
       "      <th>has_a_partner</th>\n",
       "      <th>cluster</th>\n",
       "    </tr>\n",
       "  </thead>\n",
       "  <tbody>\n",
       "    <tr>\n",
       "      <th>0</th>\n",
       "      <td>58138.0</td>\n",
       "      <td>0</td>\n",
       "      <td>0</td>\n",
       "      <td>58</td>\n",
       "      <td>635</td>\n",
       "      <td>88</td>\n",
       "      <td>546</td>\n",
       "      <td>172</td>\n",
       "      <td>88</td>\n",
       "      <td>88</td>\n",
       "      <td>...</td>\n",
       "      <td>False</td>\n",
       "      <td>False</td>\n",
       "      <td>1441</td>\n",
       "      <td>0</td>\n",
       "      <td>0</td>\n",
       "      <td>3058</td>\n",
       "      <td>Single</td>\n",
       "      <td>Graduation</td>\n",
       "      <td>False</td>\n",
       "      <td>2</td>\n",
       "    </tr>\n",
       "    <tr>\n",
       "      <th>1</th>\n",
       "      <td>46344.0</td>\n",
       "      <td>1</td>\n",
       "      <td>1</td>\n",
       "      <td>38</td>\n",
       "      <td>11</td>\n",
       "      <td>1</td>\n",
       "      <td>6</td>\n",
       "      <td>2</td>\n",
       "      <td>1</td>\n",
       "      <td>6</td>\n",
       "      <td>...</td>\n",
       "      <td>False</td>\n",
       "      <td>False</td>\n",
       "      <td>15</td>\n",
       "      <td>0</td>\n",
       "      <td>2</td>\n",
       "      <td>42</td>\n",
       "      <td>Single</td>\n",
       "      <td>Graduation</td>\n",
       "      <td>False</td>\n",
       "      <td>1</td>\n",
       "    </tr>\n",
       "    <tr>\n",
       "      <th>2</th>\n",
       "      <td>71613.0</td>\n",
       "      <td>0</td>\n",
       "      <td>0</td>\n",
       "      <td>26</td>\n",
       "      <td>426</td>\n",
       "      <td>49</td>\n",
       "      <td>127</td>\n",
       "      <td>111</td>\n",
       "      <td>21</td>\n",
       "      <td>42</td>\n",
       "      <td>...</td>\n",
       "      <td>False</td>\n",
       "      <td>False</td>\n",
       "      <td>692</td>\n",
       "      <td>0</td>\n",
       "      <td>0</td>\n",
       "      <td>1468</td>\n",
       "      <td>Together</td>\n",
       "      <td>Graduation</td>\n",
       "      <td>True</td>\n",
       "      <td>2</td>\n",
       "    </tr>\n",
       "    <tr>\n",
       "      <th>3</th>\n",
       "      <td>26646.0</td>\n",
       "      <td>1</td>\n",
       "      <td>0</td>\n",
       "      <td>26</td>\n",
       "      <td>11</td>\n",
       "      <td>4</td>\n",
       "      <td>20</td>\n",
       "      <td>10</td>\n",
       "      <td>3</td>\n",
       "      <td>5</td>\n",
       "      <td>...</td>\n",
       "      <td>False</td>\n",
       "      <td>False</td>\n",
       "      <td>43</td>\n",
       "      <td>0</td>\n",
       "      <td>1</td>\n",
       "      <td>96</td>\n",
       "      <td>Together</td>\n",
       "      <td>Graduation</td>\n",
       "      <td>True</td>\n",
       "      <td>1</td>\n",
       "    </tr>\n",
       "    <tr>\n",
       "      <th>4</th>\n",
       "      <td>58293.0</td>\n",
       "      <td>1</td>\n",
       "      <td>0</td>\n",
       "      <td>94</td>\n",
       "      <td>173</td>\n",
       "      <td>43</td>\n",
       "      <td>118</td>\n",
       "      <td>46</td>\n",
       "      <td>27</td>\n",
       "      <td>15</td>\n",
       "      <td>...</td>\n",
       "      <td>False</td>\n",
       "      <td>True</td>\n",
       "      <td>392</td>\n",
       "      <td>0</td>\n",
       "      <td>1</td>\n",
       "      <td>814</td>\n",
       "      <td>Maried</td>\n",
       "      <td>PhD</td>\n",
       "      <td>True</td>\n",
       "      <td>3</td>\n",
       "    </tr>\n",
       "  </tbody>\n",
       "</table>\n",
       "<p>5 rows × 42 columns</p>\n",
       "</div>"
      ],
      "text/plain": [
       "    Income  Kidhome  Teenhome  Recency  MntWines  MntFruits  MntMeatProducts  \\\n",
       "0  58138.0        0         0       58       635         88              546   \n",
       "1  46344.0        1         1       38        11          1                6   \n",
       "2  71613.0        0         0       26       426         49              127   \n",
       "3  26646.0        1         0       26        11          4               20   \n",
       "4  58293.0        1         0       94       173         43              118   \n",
       "\n",
       "   MntFishProducts  MntSweetProducts  MntGoldProds  ...  education_Master  \\\n",
       "0              172                88            88  ...             False   \n",
       "1                2                 1             6  ...             False   \n",
       "2              111                21            42  ...             False   \n",
       "3               10                 3             5  ...             False   \n",
       "4               46                27            15  ...             False   \n",
       "\n",
       "   education_PhD  MntRegularProds  AcceptedCmpOverall  MinorsAtHome  \\\n",
       "0          False             1441                   0             0   \n",
       "1          False               15                   0             2   \n",
       "2          False              692                   0             0   \n",
       "3          False               43                   0             1   \n",
       "4           True              392                   0             1   \n",
       "\n",
       "   TotalMntSpent  marital_status   education  has_a_partner  cluster  \n",
       "0           3058          Single  Graduation          False        2  \n",
       "1             42          Single  Graduation          False        1  \n",
       "2           1468        Together  Graduation           True        2  \n",
       "3             96        Together  Graduation           True        1  \n",
       "4            814          Maried         PhD           True        3  \n",
       "\n",
       "[5 rows x 42 columns]"
      ]
     },
     "execution_count": 2,
     "metadata": {},
     "output_type": "execute_result"
    }
   ],
   "source": [
    "data = pd.read_pickle(\"data_with_clusters.pkl\")\n",
    "data.head(5)"
   ]
  },
  {
   "cell_type": "code",
   "execution_count": 3,
   "metadata": {},
   "outputs": [
    {
     "data": {
      "text/plain": [
       "<Axes: xlabel='count', ylabel='Response'>"
      ]
     },
     "execution_count": 3,
     "metadata": {},
     "output_type": "execute_result"
    },
    {
     "data": {
      "image/png": "[encoded data removed]",
      "text/plain": [
       "<Figure size 640x480 with 1 Axes>"
      ]
     },
     "metadata": {},
     "output_type": "display_data"
    }
   ],
   "source": [
    "sns.countplot(y=data.Response)"
   ]
  },
  {
   "cell_type": "markdown",
   "metadata": {},
   "source": [
    "# Preprocessing"
   ]
  },
  {
   "cell_type": "markdown",
   "metadata": {},
   "source": [
    "LGBM and XGBOOST require categorical variables to be 'category' instead of 'object'"
   ]
  },
  {
   "cell_type": "code",
   "execution_count": 4,
   "metadata": {},
   "outputs": [],
   "source": [
    "data.cluster = data.cluster.astype(\"object\")\n",
    "data[data.select_dtypes(\"object\").columns] = data.select_dtypes(\"object\").astype(\n",
    "    \"category\"\n",
    ")\n",
    "data[data.drop(\"Response\", axis=1).select_dtypes(\"bool\").columns] = (\n",
    "    data.drop(\"Response\", axis=1).select_dtypes(\"bool\").astype(\"category\")\n",
    ")\n"
   ]
  },
  {
   "cell_type": "code",
   "execution_count": 5,
   "metadata": {},
   "outputs": [],
   "source": [
    "X_train, X_test, y_train, y_test = train_test_split(\n",
    "    data.drop(\"Response\", axis=1), data.Response, test_size=0.33, random_state=42\n",
    ")\n"
   ]
  },
  {
   "cell_type": "markdown",
   "metadata": {},
   "source": [
    "Removing columns made for EDA only"
   ]
  },
  {
   "cell_type": "code",
   "execution_count": 6,
   "metadata": {},
   "outputs": [],
   "source": [
    "data.drop(\n",
    "    [\n",
    "        \"marital_Divorced\",\n",
    "        \"marital_Married\",\n",
    "        \"marital_Single\",\n",
    "        \"marital_Together\",\n",
    "        \"marital_Widow\",\n",
    "        \"education_2n Cycle\",\n",
    "        \"education_Basic\",\n",
    "        \"education_Graduation\",\n",
    "        \"education_Master\",\n",
    "        \"education_PhD\",\n",
    "    ],\n",
    "    axis=1,\n",
    "    inplace=True,\n",
    ")\n"
   ]
  },
  {
   "cell_type": "code",
   "execution_count": 7,
   "metadata": {},
   "outputs": [
    {
     "data": {
      "text/plain": [
       "Index(['Income', 'Kidhome', 'Teenhome', 'Recency', 'MntWines', 'MntFruits',\n",
       "       'MntMeatProducts', 'MntFishProducts', 'MntSweetProducts',\n",
       "       'MntGoldProds', 'NumDealsPurchases', 'NumWebPurchases',\n",
       "       'NumCatalogPurchases', 'NumStorePurchases', 'NumWebVisitsMonth', 'Age',\n",
       "       'Customer_Days', 'MntRegularProds', 'AcceptedCmpOverall',\n",
       "       'MinorsAtHome', 'TotalMntSpent'],\n",
       "      dtype='object')"
      ]
     },
     "execution_count": 7,
     "metadata": {},
     "output_type": "execute_result"
    }
   ],
   "source": [
    "cont_cols = data.select_dtypes(\"number\").columns\n",
    "cont_cols\n"
   ]
  },
  {
   "cell_type": "code",
   "execution_count": 8,
   "metadata": {},
   "outputs": [],
   "source": [
    "continuous_variables_processing = imb_Pipeline(\n",
    "    [\n",
    "        (\"scaler\", StandardScaler()),\n",
    "        (\n",
    "            \"ftr_sel\",\n",
    "            SelectFromModel(\n",
    "                RandomForestClassifier(), threshold=-np.inf, max_features=10\n",
    "            ),\n",
    "        ),\n",
    "    ]\n",
    ")\n"
   ]
  },
  {
   "cell_type": "code",
   "execution_count": 9,
   "metadata": {},
   "outputs": [
    {
     "data": {
      "text/plain": [
       "Index(['AcceptedCmp3', 'AcceptedCmp4', 'AcceptedCmp5', 'AcceptedCmp1',\n",
       "       'AcceptedCmp2', 'Complain', 'marital_status', 'education',\n",
       "       'has_a_partner', 'cluster'],\n",
       "      dtype='object')"
      ]
     },
     "execution_count": 9,
     "metadata": {},
     "output_type": "execute_result"
    }
   ],
   "source": [
    "cat_cols = data.select_dtypes(\"category\").columns\n",
    "cat_cols\n"
   ]
  },
  {
   "cell_type": "code",
   "execution_count": 10,
   "metadata": {},
   "outputs": [],
   "source": [
    "discrete_variables_processing = imb_Pipeline(\n",
    "    [(\"encoding\", OneHotEncoder()), (\"selector\", SelectPercentile(chi2, percentile=25))]\n",
    ")\n"
   ]
  },
  {
   "cell_type": "code",
   "execution_count": 11,
   "metadata": {},
   "outputs": [],
   "source": [
    "preprocessor = ColumnTransformer(\n",
    "    [\n",
    "        (\"num\", continuous_variables_processing, cont_cols),\n",
    "        (\"cat\", discrete_variables_processing, cat_cols),\n",
    "    ]\n",
    ")\n"
   ]
  },
  {
   "cell_type": "markdown",
   "metadata": {},
   "source": [
    "# Dummy Classifier"
   ]
  },
  {
   "cell_type": "code",
   "execution_count": 12,
   "metadata": {},
   "outputs": [
    {
     "name": "stdout",
     "output_type": "stream",
     "text": [
      "              precision    recall  f1-score   support\n",
      "\n",
      "       False       0.83      1.00      0.91       553\n",
      "        True       0.00      0.00      0.00       113\n",
      "\n",
      "    accuracy                           0.83       666\n",
      "   macro avg       0.42      0.50      0.45       666\n",
      "weighted avg       0.69      0.83      0.75       666\n",
      "\n"
     ]
    },
    {
     "name": "stderr",
     "output_type": "stream",
     "text": [
      "c:\\Users\\Rafael\\Documents\\Projects\\projects-env\\Lib\\site-packages\\sklearn\\metrics\\_classification.py:1517: UndefinedMetricWarning: Precision is ill-defined and being set to 0.0 in labels with no predicted samples. Use `zero_division` parameter to control this behavior.\n",
      "  _warn_prf(average, modifier, f\"{metric.capitalize()} is\", len(result))\n",
      "c:\\Users\\Rafael\\Documents\\Projects\\projects-env\\Lib\\site-packages\\sklearn\\metrics\\_classification.py:1517: UndefinedMetricWarning: Precision is ill-defined and being set to 0.0 in labels with no predicted samples. Use `zero_division` parameter to control this behavior.\n",
      "  _warn_prf(average, modifier, f\"{metric.capitalize()} is\", len(result))\n",
      "c:\\Users\\Rafael\\Documents\\Projects\\projects-env\\Lib\\site-packages\\sklearn\\metrics\\_classification.py:1517: UndefinedMetricWarning: Precision is ill-defined and being set to 0.0 in labels with no predicted samples. Use `zero_division` parameter to control this behavior.\n",
      "  _warn_prf(average, modifier, f\"{metric.capitalize()} is\", len(result))\n"
     ]
    }
   ],
   "source": [
    "dummy_clf = DummyClassifier().fit(X_train, y_train)\n",
    "print(classification_report(y_test, dummy_clf.predict(X_test)))"
   ]
  },
  {
   "cell_type": "code",
   "execution_count": 13,
   "metadata": {},
   "outputs": [],
   "source": [
    "models = {}"
   ]
  },
  {
   "cell_type": "markdown",
   "metadata": {},
   "source": [
    "# Logistic Regression"
   ]
  },
  {
   "cell_type": "code",
   "execution_count": 14,
   "metadata": {},
   "outputs": [],
   "source": [
    "lr_pipe = Pipeline(\n",
    "    steps=[\n",
    "        (\"preprocessor\", preprocessor),\n",
    "        (\"model\", LogisticRegressionCV()),\n",
    "    ]\n",
    ")\n",
    "models['LogisticRegression'] = lr_pipe"
   ]
  },
  {
   "cell_type": "markdown",
   "metadata": {},
   "source": [
    "## With SMOTE"
   ]
  },
  {
   "cell_type": "code",
   "execution_count": 15,
   "metadata": {},
   "outputs": [],
   "source": [
    "lr_pipe_smote = imb_Pipeline(\n",
    "    steps=[\n",
    "        (\"preprocessor\", preprocessor),\n",
    "        (\"smote\", SMOTE()),\n",
    "        (\"model\", LogisticRegressionCV()),\n",
    "    ]\n",
    ")\n",
    "models['LogisticRegression_SMOTE'] = lr_pipe_smote"
   ]
  },
  {
   "cell_type": "markdown",
   "metadata": {},
   "source": [
    "# RandomForest"
   ]
  },
  {
   "cell_type": "code",
   "execution_count": 16,
   "metadata": {},
   "outputs": [],
   "source": [
    "rf_pipe = imb_Pipeline(\n",
    "    steps=[\n",
    "        ('preprocessor', preprocessor),\n",
    "        (\"model\", RandomForestClassifier()),\n",
    "    ]\n",
    ")\n",
    "models['RandomForestClassifier'] = rf_pipe"
   ]
  },
  {
   "cell_type": "markdown",
   "metadata": {},
   "source": [
    "## With SMOTE"
   ]
  },
  {
   "cell_type": "code",
   "execution_count": 17,
   "metadata": {},
   "outputs": [],
   "source": [
    "rf_pipe_smote = imb_Pipeline(\n",
    "    steps=[\n",
    "        ('preprocessor', preprocessor),\n",
    "        (\"smote\", SMOTE()),\n",
    "        (\"model\", RandomForestClassifier()),\n",
    "    ]\n",
    ")\n",
    "models['RandomForestClassifier_SMOTE'] = rf_pipe_smote"
   ]
  },
  {
   "cell_type": "markdown",
   "metadata": {},
   "source": [
    "# Neural Network"
   ]
  },
  {
   "cell_type": "code",
   "execution_count": 18,
   "metadata": {},
   "outputs": [],
   "source": [
    "mlp_pipe = imb_Pipeline(\n",
    "    steps=[\n",
    "        (\"preprocessor\", preprocessor),\n",
    "        (\"model\", MLPClassifier(hidden_layer_sizes=(32,), max_iter=5000)),\n",
    "    ]\n",
    ")\n",
    "models['MLPClassifier'] = mlp_pipe"
   ]
  },
  {
   "cell_type": "markdown",
   "metadata": {},
   "source": [
    "## With SMOTE"
   ]
  },
  {
   "cell_type": "code",
   "execution_count": 19,
   "metadata": {},
   "outputs": [],
   "source": [
    "mlp_pipe_smote = imb_Pipeline(\n",
    "    steps=[\n",
    "        (\"preprocessor\", preprocessor),\n",
    "        (\"smote\", SMOTE()),\n",
    "        (\"model\", MLPClassifier(hidden_layer_sizes=(32,), max_iter=5000)),\n",
    "    ]\n",
    ")\n",
    "models['MLPClassifier_SMOTE'] = mlp_pipe_smote"
   ]
  },
  {
   "cell_type": "markdown",
   "metadata": {},
   "source": [
    "# XGBoost"
   ]
  },
  {
   "cell_type": "code",
   "execution_count": 20,
   "metadata": {},
   "outputs": [],
   "source": [
    "xgb_pipe = imb_Pipeline(\n",
    "    steps=[\n",
    "        (\"model\", XGBClassifier(enable_categorical=True)),\n",
    "    ]\n",
    ")\n",
    "models['XGBClassifier'] = xgb_pipe"
   ]
  },
  {
   "cell_type": "markdown",
   "metadata": {},
   "source": [
    "## With SMOTE"
   ]
  },
  {
   "cell_type": "code",
   "execution_count": 21,
   "metadata": {},
   "outputs": [],
   "source": [
    "xgb_pipe_smote = imb_Pipeline(\n",
    "    steps=[\n",
    "        ('preprocessor', preprocessor),\n",
    "        (\"smote\", SMOTE()),\n",
    "        (\"model\", XGBClassifier(enable_categorical=True)),\n",
    "    ]\n",
    ")\n",
    "models['XGBClassifier_SMOTE'] = xgb_pipe_smote"
   ]
  },
  {
   "cell_type": "markdown",
   "metadata": {},
   "source": [
    "# LGBM"
   ]
  },
  {
   "cell_type": "code",
   "execution_count": 22,
   "metadata": {},
   "outputs": [],
   "source": [
    "lgbm_pipe = imb_Pipeline(\n",
    "    steps=[\n",
    "        (\"model\", LGBMClassifier()),\n",
    "    ]\n",
    ")\n",
    "models['LGBMClassifier'] = lgbm_pipe"
   ]
  },
  {
   "cell_type": "markdown",
   "metadata": {},
   "source": [
    "## With SMOTE"
   ]
  },
  {
   "cell_type": "code",
   "execution_count": 23,
   "metadata": {},
   "outputs": [],
   "source": [
    "lgbm_pipe_smote = imb_Pipeline(\n",
    "    steps=[\n",
    "        ('preprocessor', preprocessor),\n",
    "        (\"smote\", SMOTE()),\n",
    "        (\"model\", LGBMClassifier(enable_categorical=True)),\n",
    "    ]\n",
    ")\n",
    "models['LGBMClassifier_SMOTE'] = lgbm_pipe_smote"
   ]
  },
  {
   "cell_type": "markdown",
   "metadata": {},
   "source": [
    "# Comparing models"
   ]
  },
  {
   "cell_type": "code",
   "execution_count": 35,
   "metadata": {},
   "outputs": [
    {
     "name": "stdout",
     "output_type": "stream",
     "text": [
      "Training LogisticRegression\n",
      "Training LogisticRegression_SMOTE\n",
      "Training RandomForestClassifier\n",
      "Training RandomForestClassifier_SMOTE\n",
      "Training MLPClassifier\n",
      "Training MLPClassifier_SMOTE\n",
      "Training XGBClassifier\n",
      "Training XGBClassifier_SMOTE\n",
      "Training LGBMClassifier\n",
      "[LightGBM] [Warning] Found whitespace in feature_names, replace with underlines\n",
      "[LightGBM] [Info] Number of positive: 178, number of negative: 1038\n",
      "[LightGBM] [Info] Auto-choosing col-wise multi-threading, the overhead of testing was 0.000305 seconds.\n",
      "You can set `force_col_wise=true` to remove the overhead.\n",
      "[LightGBM] [Info] Total Bins 2271\n",
      "[LightGBM] [Info] Number of data points in the train set: 1216, number of used features: 41\n",
      "[LightGBM] [Info] [binary:BoostFromScore]: pavg=0.146382 -> initscore=-1.763268\n",
      "[LightGBM] [Info] Start training from score -1.763268\n",
      "[LightGBM] [Warning] Found whitespace in feature_names, replace with underlines\n",
      "[LightGBM] [Info] Number of positive: 178, number of negative: 1038\n",
      "[LightGBM] [Info] Auto-choosing col-wise multi-threading, the overhead of testing was 0.000197 seconds.\n",
      "You can set `force_col_wise=true` to remove the overhead.\n",
      "[LightGBM] [Info] Total Bins 2273\n",
      "[LightGBM] [Info] Number of data points in the train set: 1216, number of used features: 39\n",
      "[LightGBM] [Info] [binary:BoostFromScore]: pavg=0.146382 -> initscore=-1.763268\n",
      "[LightGBM] [Info] Start training from score -1.763268\n",
      "[LightGBM] [Warning] No further splits with positive gain, best gain: -inf\n",
      "[LightGBM] [Warning] Found whitespace in feature_names, replace with underlines\n",
      "[LightGBM] [Info] Number of positive: 179, number of negative: 1038\n",
      "[LightGBM] [Info] Auto-choosing col-wise multi-threading, the overhead of testing was 0.000344 seconds.\n",
      "You can set `force_col_wise=true` to remove the overhead.\n",
      "[LightGBM] [Info] Total Bins 2268\n",
      "[LightGBM] [Info] Number of data points in the train set: 1217, number of used features: 40\n",
      "[LightGBM] [Info] [binary:BoostFromScore]: pavg=0.147083 -> initscore=-1.757665\n",
      "[LightGBM] [Info] Start training from score -1.757665\n",
      "[LightGBM] [Warning] Found whitespace in feature_names, replace with underlines\n",
      "[LightGBM] [Info] Number of positive: 179, number of negative: 1038\n",
      "[LightGBM] [Info] Auto-choosing col-wise multi-threading, the overhead of testing was 0.000360 seconds.\n",
      "You can set `force_col_wise=true` to remove the overhead.\n",
      "[LightGBM] [Info] Total Bins 2269\n",
      "[LightGBM] [Info] Number of data points in the train set: 1217, number of used features: 41\n",
      "[LightGBM] [Info] [binary:BoostFromScore]: pavg=0.147083 -> initscore=-1.757665\n",
      "[LightGBM] [Info] Start training from score -1.757665\n",
      "[LightGBM] [Warning] No further splits with positive gain, best gain: -inf\n",
      "[LightGBM] [Warning] Found whitespace in feature_names, replace with underlines\n",
      "[LightGBM] [Info] Number of positive: 178, number of negative: 1039\n",
      "[LightGBM] [Info] Auto-choosing col-wise multi-threading, the overhead of testing was 0.000264 seconds.\n",
      "You can set `force_col_wise=true` to remove the overhead.\n",
      "[LightGBM] [Info] Total Bins 2270\n",
      "[LightGBM] [Info] Number of data points in the train set: 1217, number of used features: 39\n",
      "[LightGBM] [Info] [binary:BoostFromScore]: pavg=0.146261 -> initscore=-1.764230\n",
      "[LightGBM] [Info] Start training from score -1.764230\n",
      "[LightGBM] [Warning] No further splits with positive gain, best gain: -inf\n",
      "[LightGBM] [Warning] Found whitespace in feature_names, replace with underlines\n",
      "[LightGBM] [Info] Number of positive: 178, number of negative: 1039\n",
      "[LightGBM] [Info] Auto-choosing col-wise multi-threading, the overhead of testing was 0.000339 seconds.\n",
      "You can set `force_col_wise=true` to remove the overhead.\n",
      "[LightGBM] [Info] Total Bins 2270\n",
      "[LightGBM] [Info] Number of data points in the train set: 1217, number of used features: 41\n",
      "[LightGBM] [Info] [binary:BoostFromScore]: pavg=0.146261 -> initscore=-1.764230\n",
      "[LightGBM] [Info] Start training from score -1.764230\n",
      "[LightGBM] [Warning] Found whitespace in feature_names, replace with underlines\n",
      "[LightGBM] [Info] Number of positive: 178, number of negative: 1039\n",
      "[LightGBM] [Info] Auto-choosing col-wise multi-threading, the overhead of testing was 0.000346 seconds.\n",
      "You can set `force_col_wise=true` to remove the overhead.\n",
      "[LightGBM] [Info] Total Bins 2271\n",
      "[LightGBM] [Info] Number of data points in the train set: 1217, number of used features: 41\n",
      "[LightGBM] [Info] [binary:BoostFromScore]: pavg=0.146261 -> initscore=-1.764230\n",
      "[LightGBM] [Info] Start training from score -1.764230\n",
      "[LightGBM] [Warning] Found whitespace in feature_names, replace with underlines\n",
      "[LightGBM] [Info] Number of positive: 178, number of negative: 1039\n",
      "[LightGBM] [Info] Auto-choosing col-wise multi-threading, the overhead of testing was 0.000361 seconds.\n",
      "You can set `force_col_wise=true` to remove the overhead.\n",
      "[LightGBM] [Info] Total Bins 2273\n",
      "[LightGBM] [Info] Number of data points in the train set: 1217, number of used features: 41\n",
      "[LightGBM] [Info] [binary:BoostFromScore]: pavg=0.146261 -> initscore=-1.764230\n",
      "[LightGBM] [Info] Start training from score -1.764230\n",
      "[LightGBM] [Warning] No further splits with positive gain, best gain: -inf\n",
      "[LightGBM] [Warning] Found whitespace in feature_names, replace with underlines\n",
      "[LightGBM] [Info] Number of positive: 178, number of negative: 1039\n",
      "[LightGBM] [Info] Auto-choosing col-wise multi-threading, the overhead of testing was 0.000309 seconds.\n",
      "You can set `force_col_wise=true` to remove the overhead.\n",
      "[LightGBM] [Info] Total Bins 2273\n",
      "[LightGBM] [Info] Number of data points in the train set: 1217, number of used features: 40\n",
      "[LightGBM] [Info] [binary:BoostFromScore]: pavg=0.146261 -> initscore=-1.764230\n",
      "[LightGBM] [Info] Start training from score -1.764230\n",
      "[LightGBM] [Warning] Found whitespace in feature_names, replace with underlines\n",
      "[LightGBM] [Info] Number of positive: 178, number of negative: 1039\n",
      "[LightGBM] [Info] Auto-choosing col-wise multi-threading, the overhead of testing was 0.000260 seconds.\n",
      "You can set `force_col_wise=true` to remove the overhead.\n",
      "[LightGBM] [Info] Total Bins 2259\n",
      "[LightGBM] [Info] Number of data points in the train set: 1217, number of used features: 39\n",
      "[LightGBM] [Info] [binary:BoostFromScore]: pavg=0.146261 -> initscore=-1.764230\n",
      "[LightGBM] [Info] Start training from score -1.764230\n",
      "Training LGBMClassifier_SMOTE\n",
      "[LightGBM] [Warning] Unknown parameter: enable_categorical\n",
      "[LightGBM] [Warning] Unknown parameter: enable_categorical\n",
      "[LightGBM] [Info] Number of positive: 1038, number of negative: 1038\n",
      "[LightGBM] [Info] Auto-choosing col-wise multi-threading, the overhead of testing was 0.000265 seconds.\n",
      "You can set `force_col_wise=true` to remove the overhead.\n",
      "[LightGBM] [Info] Total Bins 2877\n",
      "[LightGBM] [Info] Number of data points in the train set: 2076, number of used features: 18\n",
      "[LightGBM] [Info] [binary:BoostFromScore]: pavg=0.500000 -> initscore=0.000000\n",
      "[LightGBM] [Warning] Unknown parameter: enable_categorical\n",
      "[LightGBM] [Warning] Unknown parameter: enable_categorical\n",
      "[LightGBM] [Warning] Unknown parameter: enable_categorical\n",
      "[LightGBM] [Info] Number of positive: 1038, number of negative: 1038\n",
      "[LightGBM] [Info] Auto-choosing col-wise multi-threading, the overhead of testing was 0.000255 seconds.\n",
      "You can set `force_col_wise=true` to remove the overhead.\n",
      "[LightGBM] [Info] Total Bins 2877\n",
      "[LightGBM] [Info] Number of data points in the train set: 2076, number of used features: 18\n",
      "[LightGBM] [Info] [binary:BoostFromScore]: pavg=0.500000 -> initscore=0.000000\n",
      "[LightGBM] [Warning] Unknown parameter: enable_categorical\n",
      "[LightGBM] [Warning] Unknown parameter: enable_categorical\n",
      "[LightGBM] [Warning] Unknown parameter: enable_categorical\n",
      "[LightGBM] [Info] Number of positive: 1038, number of negative: 1038\n",
      "[LightGBM] [Info] Auto-choosing col-wise multi-threading, the overhead of testing was 0.000270 seconds.\n",
      "You can set `force_col_wise=true` to remove the overhead.\n",
      "[LightGBM] [Info] Total Bins 2843\n",
      "[LightGBM] [Info] Number of data points in the train set: 2076, number of used features: 18\n",
      "[LightGBM] [Info] [binary:BoostFromScore]: pavg=0.500000 -> initscore=0.000000\n",
      "[LightGBM] [Warning] Unknown parameter: enable_categorical\n",
      "[LightGBM] [Warning] Unknown parameter: enable_categorical\n",
      "[LightGBM] [Warning] Unknown parameter: enable_categorical\n",
      "[LightGBM] [Info] Number of positive: 1038, number of negative: 1038\n",
      "[LightGBM] [Info] Auto-choosing col-wise multi-threading, the overhead of testing was 0.000323 seconds.\n",
      "You can set `force_col_wise=true` to remove the overhead.\n",
      "[LightGBM] [Info] Total Bins 2859\n",
      "[LightGBM] [Info] Number of data points in the train set: 2076, number of used features: 18\n",
      "[LightGBM] [Info] [binary:BoostFromScore]: pavg=0.500000 -> initscore=0.000000\n",
      "[LightGBM] [Warning] Unknown parameter: enable_categorical\n",
      "[LightGBM] [Warning] Unknown parameter: enable_categorical\n",
      "[LightGBM] [Warning] Unknown parameter: enable_categorical\n",
      "[LightGBM] [Info] Number of positive: 1039, number of negative: 1039\n",
      "[LightGBM] [Info] Auto-choosing col-wise multi-threading, the overhead of testing was 0.000275 seconds.\n",
      "You can set `force_col_wise=true` to remove the overhead.\n",
      "[LightGBM] [Info] Total Bins 2860\n",
      "[LightGBM] [Info] Number of data points in the train set: 2078, number of used features: 18\n",
      "[LightGBM] [Info] [binary:BoostFromScore]: pavg=0.500000 -> initscore=0.000000\n",
      "[LightGBM] [Warning] Unknown parameter: enable_categorical\n",
      "[LightGBM] [Warning] Unknown parameter: enable_categorical\n",
      "[LightGBM] [Warning] Unknown parameter: enable_categorical\n",
      "[LightGBM] [Info] Number of positive: 1039, number of negative: 1039\n",
      "[LightGBM] [Info] Auto-choosing col-wise multi-threading, the overhead of testing was 0.000273 seconds.\n",
      "You can set `force_col_wise=true` to remove the overhead.\n",
      "[LightGBM] [Info] Total Bins 2869\n",
      "[LightGBM] [Info] Number of data points in the train set: 2078, number of used features: 18\n",
      "[LightGBM] [Info] [binary:BoostFromScore]: pavg=0.500000 -> initscore=0.000000\n",
      "[LightGBM] [Warning] Unknown parameter: enable_categorical\n",
      "[LightGBM] [Warning] Unknown parameter: enable_categorical\n",
      "[LightGBM] [Warning] Unknown parameter: enable_categorical\n",
      "[LightGBM] [Info] Number of positive: 1039, number of negative: 1039\n",
      "[LightGBM] [Info] Auto-choosing col-wise multi-threading, the overhead of testing was 0.000251 seconds.\n",
      "You can set `force_col_wise=true` to remove the overhead.\n",
      "[LightGBM] [Info] Total Bins 2871\n",
      "[LightGBM] [Info] Number of data points in the train set: 2078, number of used features: 18\n",
      "[LightGBM] [Info] [binary:BoostFromScore]: pavg=0.500000 -> initscore=0.000000\n",
      "[LightGBM] [Warning] Unknown parameter: enable_categorical\n",
      "[LightGBM] [Warning] Unknown parameter: enable_categorical\n",
      "[LightGBM] [Warning] Unknown parameter: enable_categorical\n",
      "[LightGBM] [Info] Number of positive: 1039, number of negative: 1039\n",
      "[LightGBM] [Info] Auto-choosing col-wise multi-threading, the overhead of testing was 0.000290 seconds.\n",
      "You can set `force_col_wise=true` to remove the overhead.\n",
      "[LightGBM] [Info] Total Bins 2871\n",
      "[LightGBM] [Info] Number of data points in the train set: 2078, number of used features: 18\n",
      "[LightGBM] [Info] [binary:BoostFromScore]: pavg=0.500000 -> initscore=0.000000\n",
      "[LightGBM] [Warning] Unknown parameter: enable_categorical\n",
      "[LightGBM] [Warning] Unknown parameter: enable_categorical\n",
      "[LightGBM] [Warning] Unknown parameter: enable_categorical\n",
      "[LightGBM] [Info] Number of positive: 1039, number of negative: 1039\n",
      "[LightGBM] [Info] Auto-choosing col-wise multi-threading, the overhead of testing was 0.000282 seconds.\n",
      "You can set `force_col_wise=true` to remove the overhead.\n",
      "[LightGBM] [Info] Total Bins 2872\n",
      "[LightGBM] [Info] Number of data points in the train set: 2078, number of used features: 18\n",
      "[LightGBM] [Info] [binary:BoostFromScore]: pavg=0.500000 -> initscore=0.000000\n",
      "[LightGBM] [Warning] Unknown parameter: enable_categorical\n",
      "[LightGBM] [Warning] Unknown parameter: enable_categorical\n",
      "[LightGBM] [Warning] Unknown parameter: enable_categorical\n",
      "[LightGBM] [Info] Number of positive: 1039, number of negative: 1039\n",
      "[LightGBM] [Info] Auto-choosing col-wise multi-threading, the overhead of testing was 0.000369 seconds.\n",
      "You can set `force_col_wise=true` to remove the overhead.\n",
      "[LightGBM] [Info] Total Bins 2876\n",
      "[LightGBM] [Info] Number of data points in the train set: 2078, number of used features: 18\n",
      "[LightGBM] [Info] [binary:BoostFromScore]: pavg=0.500000 -> initscore=0.000000\n",
      "[LightGBM] [Warning] Unknown parameter: enable_categorical\n"
     ]
    }
   ],
   "source": [
    "results = {}\n",
    "for key, model in models.items():\n",
    "    print(f'Training {key}')\n",
    "    scores = cross_val_score(model, X_train, y_train, cv=10, scoring='f1_weighted')\n",
    "    results[key] = np.mean(scores)"
   ]
  },
  {
   "cell_type": "code",
   "execution_count": 36,
   "metadata": {},
   "outputs": [],
   "source": [
    "results_pd = pd.Series(results).sort_values(ascending=False)"
   ]
  },
  {
   "cell_type": "code",
   "execution_count": 37,
   "metadata": {},
   "outputs": [
    {
     "data": {
      "image/png": "[encoded data removed]",
      "text/plain": [
       "<Figure size 640x480 with 1 Axes>"
      ]
     },
     "metadata": {},
     "output_type": "display_data"
    }
   ],
   "source": [
    "ax = sns.barplot(results_pd, orient='h')\n",
    "_ = ax.bar_label(ax.containers[0])"
   ]
  },
  {
   "cell_type": "markdown",
   "metadata": {},
   "source": [
    "LGBM and Logistic Regression got the best results for this dataset. SMOTE didn't help to get better results"
   ]
  },
  {
   "cell_type": "markdown",
   "metadata": {},
   "source": [
    "# Optimization"
   ]
  },
  {
   "cell_type": "code",
   "execution_count": 41,
   "metadata": {},
   "outputs": [
    {
     "name": "stderr",
     "output_type": "stream",
     "text": [
      "[I 2024-06-15 20:32:01,514] A new study created in memory with name: no-name-c9f2b76e-082c-409b-8ca5-82eb006be0c1\n",
      "[I 2024-06-15 20:32:01,868] Trial 0 finished with value: 0.7861148546182528 and parameters: {'lambda_l1': 0.0019591874913307775, 'lambda_l2': 1.2897124882396511, 'num_leaves': 190, 'feature_fraction': 0.4555883942471205, 'bagging_fraction': 0.5508688630550167, 'bagging_freq': 5, 'min_child_samples': 21, 'n_estimators': 186}. Best is trial 0 with value: 0.7861148546182528.\n",
      "[I 2024-06-15 20:32:02,336] Trial 1 finished with value: 0.7861148546182528 and parameters: {'lambda_l1': 3.3367953579353895e-05, 'lambda_l2': 7.83126974236551e-08, 'num_leaves': 242, 'feature_fraction': 0.9467196487291548, 'bagging_fraction': 0.42871814983050766, 'bagging_freq': 1, 'min_child_samples': 12, 'n_estimators': 131}. Best is trial 0 with value: 0.7861148546182528.\n",
      "[I 2024-06-15 20:32:02,796] Trial 2 finished with value: 0.7861148546182528 and parameters: {'lambda_l1': 2.5710031692320968e-05, 'lambda_l2': 7.219134817657514e-05, 'num_leaves': 46, 'feature_fraction': 0.5093902577947497, 'bagging_fraction': 0.8628082223012403, 'bagging_freq': 3, 'min_child_samples': 23, 'n_estimators': 104}. Best is trial 0 with value: 0.7861148546182528.\n",
      "[I 2024-06-15 20:32:03,075] Trial 3 finished with value: 0.7422226128636186 and parameters: {'lambda_l1': 3.7539326592972015, 'lambda_l2': 0.0015122725285543822, 'num_leaves': 226, 'feature_fraction': 0.8474186742931449, 'bagging_fraction': 0.9660033549991467, 'bagging_freq': 2, 'min_child_samples': 8, 'n_estimators': 183}. Best is trial 0 with value: 0.7861148546182528.\n",
      "[I 2024-06-15 20:32:03,360] Trial 4 finished with value: 0.7861148546182528 and parameters: {'lambda_l1': 1.4144076481808702e-07, 'lambda_l2': 0.00034022814565920956, 'num_leaves': 17, 'feature_fraction': 0.5205074367015802, 'bagging_fraction': 0.653354272714841, 'bagging_freq': 3, 'min_child_samples': 77, 'n_estimators': 185}. Best is trial 0 with value: 0.7861148546182528.\n",
      "[I 2024-06-15 20:32:03,747] Trial 5 finished with value: 0.7861148546182528 and parameters: {'lambda_l1': 0.0003353190832773028, 'lambda_l2': 1.0351698848235933e-07, 'num_leaves': 220, 'feature_fraction': 0.7392957021758371, 'bagging_fraction': 0.9659806814223539, 'bagging_freq': 1, 'min_child_samples': 44, 'n_estimators': 175}. Best is trial 0 with value: 0.7861148546182528.\n",
      "[I 2024-06-15 20:32:04,007] Trial 6 finished with value: 0.8646372316839971 and parameters: {'lambda_l1': 0.9324507065966581, 'lambda_l2': 0.0006123985723671342, 'num_leaves': 83, 'feature_fraction': 0.6934349707129962, 'bagging_fraction': 0.9314771243910797, 'bagging_freq': 7, 'min_child_samples': 57, 'n_estimators': 170}. Best is trial 6 with value: 0.8646372316839971.\n",
      "[I 2024-06-15 20:32:04,323] Trial 7 finished with value: 0.8671687669514492 and parameters: {'lambda_l1': 0.5964935033443797, 'lambda_l2': 9.480103842069516e-05, 'num_leaves': 189, 'feature_fraction': 0.8847902185121963, 'bagging_fraction': 0.7501899364995781, 'bagging_freq': 7, 'min_child_samples': 38, 'n_estimators': 144}. Best is trial 7 with value: 0.8671687669514492.\n",
      "[I 2024-06-15 20:32:04,659] Trial 8 finished with value: 0.7861148546182528 and parameters: {'lambda_l1': 0.00019477259099870295, 'lambda_l2': 7.502516156389556e-07, 'num_leaves': 70, 'feature_fraction': 0.951312855652184, 'bagging_fraction': 0.8438746794848662, 'bagging_freq': 1, 'min_child_samples': 65, 'n_estimators': 194}. Best is trial 7 with value: 0.8671687669514492.\n",
      "[I 2024-06-15 20:32:04,934] Trial 9 finished with value: 0.7861148546182528 and parameters: {'lambda_l1': 7.467466365842943e-07, 'lambda_l2': 8.371544844127504e-08, 'num_leaves': 130, 'feature_fraction': 0.4351743561948299, 'bagging_fraction': 0.735953283035953, 'bagging_freq': 7, 'min_child_samples': 99, 'n_estimators': 125}. Best is trial 7 with value: 0.8671687669514492.\n",
      "[I 2024-06-15 20:32:05,354] Trial 10 finished with value: 0.8753476332994587 and parameters: {'lambda_l1': 0.107265708542569, 'lambda_l2': 0.1691201856094903, 'num_leaves': 151, 'feature_fraction': 0.7728763942264144, 'bagging_fraction': 0.7070269186866396, 'bagging_freq': 5, 'min_child_samples': 39, 'n_estimators': 153}. Best is trial 10 with value: 0.8753476332994587.\n",
      "[I 2024-06-15 20:32:05,780] Trial 11 finished with value: 0.874308012777762 and parameters: {'lambda_l1': 0.0971566103486808, 'lambda_l2': 0.4392601806910721, 'num_leaves': 147, 'feature_fraction': 0.7690752607216733, 'bagging_fraction': 0.7240812770216007, 'bagging_freq': 5, 'min_child_samples': 39, 'n_estimators': 152}. Best is trial 10 with value: 0.8753476332994587.\n",
      "[I 2024-06-15 20:32:06,128] Trial 12 finished with value: 0.8633984072494971 and parameters: {'lambda_l1': 0.03965207229233886, 'lambda_l2': 4.474487649887691, 'num_leaves': 133, 'feature_fraction': 0.7171829343444591, 'bagging_fraction': 0.6250635412301233, 'bagging_freq': 5, 'min_child_samples': 37, 'n_estimators': 156}. Best is trial 10 with value: 0.8753476332994587.\n",
      "[I 2024-06-15 20:32:06,531] Trial 13 finished with value: 0.8685196786140468 and parameters: {'lambda_l1': 0.04394917225716816, 'lambda_l2': 0.07837725566001065, 'num_leaves': 156, 'feature_fraction': 0.6183604269171676, 'bagging_fraction': 0.5693629964057874, 'bagging_freq': 5, 'min_child_samples': 29, 'n_estimators': 159}. Best is trial 10 with value: 0.8753476332994587.\n",
      "[I 2024-06-15 20:32:06,941] Trial 14 finished with value: 0.8754645381700273 and parameters: {'lambda_l1': 0.03706647359119982, 'lambda_l2': 0.05598379852364831, 'num_leaves': 103, 'feature_fraction': 0.8056515352926127, 'bagging_fraction': 0.8103325848987724, 'bagging_freq': 4, 'min_child_samples': 53, 'n_estimators': 143}. Best is trial 14 with value: 0.8754645381700273.\n",
      "[I 2024-06-15 20:32:07,289] Trial 15 finished with value: 0.7894404764277455 and parameters: {'lambda_l1': 0.009427723509549986, 'lambda_l2': 0.02300700386818127, 'num_leaves': 96, 'feature_fraction': 0.8383234365585513, 'bagging_fraction': 0.8021511871875013, 'bagging_freq': 4, 'min_child_samples': 67, 'n_estimators': 128}. Best is trial 14 with value: 0.8754645381700273.\n",
      "[I 2024-06-15 20:32:07,672] Trial 16 finished with value: 0.7861148546182528 and parameters: {'lambda_l1': 0.004259048285479037, 'lambda_l2': 0.028741532571147324, 'num_leaves': 106, 'feature_fraction': 0.6004717919823801, 'bagging_fraction': 0.810222252480311, 'bagging_freq': 6, 'min_child_samples': 50, 'n_estimators': 136}. Best is trial 14 with value: 0.8754645381700273.\n",
      "[I 2024-06-15 20:32:07,971] Trial 17 finished with value: 0.8588431169743567 and parameters: {'lambda_l1': 0.7545526097263234, 'lambda_l2': 0.005054125081687239, 'num_leaves': 163, 'feature_fraction': 0.8159019156229643, 'bagging_fraction': 0.6609736659871164, 'bagging_freq': 4, 'min_child_samples': 83, 'n_estimators': 113}. Best is trial 14 with value: 0.8754645381700273.\n",
      "[I 2024-06-15 20:32:08,192] Trial 18 finished with value: 0.7269995374882724 and parameters: {'lambda_l1': 7.3687919883682556, 'lambda_l2': 4.124562049783463e-06, 'num_leaves': 59, 'feature_fraction': 0.6878177246579688, 'bagging_fraction': 0.4653476093778879, 'bagging_freq': 3, 'min_child_samples': 56, 'n_estimators': 140}. Best is trial 14 with value: 0.8754645381700273.\n",
      "[I 2024-06-15 20:32:08,518] Trial 19 finished with value: 0.7861148546182528 and parameters: {'lambda_l1': 0.0007507443202886408, 'lambda_l2': 0.21141198127002264, 'num_leaves': 110, 'feature_fraction': 0.9953252091408767, 'bagging_fraction': 0.9003144874828551, 'bagging_freq': 6, 'min_child_samples': 66, 'n_estimators': 165}. Best is trial 14 with value: 0.8754645381700273.\n",
      "[I 2024-06-15 20:32:08,869] Trial 20 finished with value: 0.8741652945838483 and parameters: {'lambda_l1': 0.12167729014256148, 'lambda_l2': 6.942435326157209, 'num_leaves': 33, 'feature_fraction': 0.629231193254633, 'bagging_fraction': 0.7774591698226049, 'bagging_freq': 6, 'min_child_samples': 48, 'n_estimators': 146}. Best is trial 14 with value: 0.8754645381700273.\n",
      "[I 2024-06-15 20:32:09,287] Trial 21 finished with value: 0.8726809579316054 and parameters: {'lambda_l1': 0.06496361765058793, 'lambda_l2': 0.3851091547866527, 'num_leaves': 152, 'feature_fraction': 0.7972595729179288, 'bagging_fraction': 0.7086655664923256, 'bagging_freq': 5, 'min_child_samples': 36, 'n_estimators': 153}. Best is trial 14 with value: 0.8754645381700273.\n",
      "[I 2024-06-15 20:32:09,760] Trial 22 finished with value: 0.8110778875091229 and parameters: {'lambda_l1': 0.010992662493270355, 'lambda_l2': 0.8008315694033832, 'num_leaves': 180, 'feature_fraction': 0.7703433040945824, 'bagging_fraction': 0.6947658306039474, 'bagging_freq': 4, 'min_child_samples': 31, 'n_estimators': 119}. Best is trial 14 with value: 0.8754645381700273.\n",
      "[I 2024-06-15 20:32:10,120] Trial 23 finished with value: 0.8769988676827454 and parameters: {'lambda_l1': 0.2390925295424805, 'lambda_l2': 0.007622772308362137, 'num_leaves': 122, 'feature_fraction': 0.9007213239504227, 'bagging_fraction': 0.6103027531184539, 'bagging_freq': 5, 'min_child_samples': 45, 'n_estimators': 150}. Best is trial 23 with value: 0.8769988676827454.\n",
      "[I 2024-06-15 20:32:10,464] Trial 24 finished with value: 0.858278230644331 and parameters: {'lambda_l1': 0.37813276152089004, 'lambda_l2': 0.0046494154054282505, 'num_leaves': 106, 'feature_fraction': 0.8968933397213009, 'bagging_fraction': 0.6096051768171311, 'bagging_freq': 4, 'min_child_samples': 57, 'n_estimators': 163}. Best is trial 23 with value: 0.8769988676827454.\n",
      "[I 2024-06-15 20:32:10,743] Trial 25 finished with value: 0.856758152084644 and parameters: {'lambda_l1': 1.093032853577403, 'lambda_l2': 0.017644294628295917, 'num_leaves': 83, 'feature_fraction': 0.8946629850022925, 'bagging_fraction': 0.5120484172969368, 'bagging_freq': 6, 'min_child_samples': 45, 'n_estimators': 138}. Best is trial 23 with value: 0.8769988676827454.\n",
      "[I 2024-06-15 20:32:11,076] Trial 26 finished with value: 0.7927660982372382 and parameters: {'lambda_l1': 0.012799637963610638, 'lambda_l2': 0.058345073604051514, 'num_leaves': 128, 'feature_fraction': 0.8501774163683619, 'bagging_fraction': 0.5928373868072235, 'bagging_freq': 3, 'min_child_samples': 75, 'n_estimators': 148}. Best is trial 23 with value: 0.8769988676827454.\n",
      "[I 2024-06-15 20:32:11,330] Trial 27 finished with value: 0.7129332581579715 and parameters: {'lambda_l1': 3.2499833517202164, 'lambda_l2': 0.0028991032371467316, 'num_leaves': 174, 'feature_fraction': 0.9496065704115118, 'bagging_fraction': 0.6717702063809845, 'bagging_freq': 2, 'min_child_samples': 24, 'n_estimators': 174}. Best is trial 23 with value: 0.8769988676827454.\n",
      "[I 2024-06-15 20:32:11,658] Trial 28 finished with value: 0.8723092424824367 and parameters: {'lambda_l1': 0.1872284042053781, 'lambda_l2': 0.10457304955161763, 'num_leaves': 202, 'feature_fraction': 0.6716566125446174, 'bagging_fraction': 0.4925525393399907, 'bagging_freq': 5, 'min_child_samples': 61, 'n_estimators': 135}. Best is trial 23 with value: 0.8769988676827454.\n",
      "[I 2024-06-15 20:32:11,980] Trial 29 finished with value: 0.7861148546182528 and parameters: {'lambda_l1': 0.0018468845907083993, 'lambda_l2': 2.095189977770585, 'num_leaves': 121, 'feature_fraction': 0.7737513404772021, 'bagging_fraction': 0.5390526043723449, 'bagging_freq': 4, 'min_child_samples': 51, 'n_estimators': 163}. Best is trial 23 with value: 0.8769988676827454.\n",
      "[I 2024-06-15 20:32:12,562] Trial 30 finished with value: 0.7861148546182528 and parameters: {'lambda_l1': 1.539982177762876e-08, 'lambda_l2': 1.7422680534165425e-05, 'num_leaves': 142, 'feature_fraction': 0.9140025720899333, 'bagging_fraction': 0.8639706812549084, 'bagging_freq': 6, 'min_child_samples': 15, 'n_estimators': 200}. Best is trial 23 with value: 0.8769988676827454.\n",
      "[I 2024-06-15 20:32:12,951] Trial 31 finished with value: 0.8577012873866801 and parameters: {'lambda_l1': 0.024012026370950266, 'lambda_l2': 0.825881953770681, 'num_leaves': 147, 'feature_fraction': 0.747795545847095, 'bagging_fraction': 0.7402923277256335, 'bagging_freq': 5, 'min_child_samples': 40, 'n_estimators': 152}. Best is trial 23 with value: 0.8769988676827454.\n",
      "[I 2024-06-15 20:32:13,431] Trial 32 finished with value: 0.8770977461464206 and parameters: {'lambda_l1': 0.14630428397137257, 'lambda_l2': 0.012320697224381649, 'num_leaves': 170, 'feature_fraction': 0.8033518097060723, 'bagging_fraction': 0.7664004664314836, 'bagging_freq': 5, 'min_child_samples': 30, 'n_estimators': 142}. Best is trial 32 with value: 0.8770977461464206.\n",
      "[I 2024-06-15 20:32:13,988] Trial 33 finished with value: 0.7861148546182528 and parameters: {'lambda_l1': 1.4808071734890525e-05, 'lambda_l2': 0.0064631045184749105, 'num_leaves': 255, 'feature_fraction': 0.8082144163977105, 'bagging_fraction': 0.785588627533213, 'bagging_freq': 5, 'min_child_samples': 17, 'n_estimators': 143}. Best is trial 32 with value: 0.8770977461464206.\n",
      "[I 2024-06-15 20:32:14,433] Trial 34 finished with value: 0.7861148546182528 and parameters: {'lambda_l1': 0.002806306476046385, 'lambda_l2': 0.0008549249225088597, 'num_leaves': 196, 'feature_fraction': 0.8561010427082942, 'bagging_fraction': 0.819004924788871, 'bagging_freq': 4, 'min_child_samples': 30, 'n_estimators': 132}. Best is trial 32 with value: 0.8770977461464206.\n",
      "[I 2024-06-15 20:32:14,717] Trial 35 finished with value: 0.6905081643614068 and parameters: {'lambda_l1': 2.2596697556084986, 'lambda_l2': 8.747062678056953e-05, 'num_leaves': 170, 'feature_fraction': 0.8202018342374265, 'bagging_fraction': 0.636964949941446, 'bagging_freq': 4, 'min_child_samples': 7, 'n_estimators': 122}. Best is trial 32 with value: 0.8770977461464206.\n",
      "[I 2024-06-15 20:32:15,136] Trial 36 finished with value: 0.8783494829874797 and parameters: {'lambda_l1': 0.34171062559547905, 'lambda_l2': 0.01602756128182293, 'num_leaves': 88, 'feature_fraction': 0.9858684564993707, 'bagging_fraction': 0.684739853849719, 'bagging_freq': 3, 'min_child_samples': 25, 'n_estimators': 104}. Best is trial 36 with value: 0.8783494829874797.\n",
      "[I 2024-06-15 20:32:15,568] Trial 37 finished with value: 0.8669899580157482 and parameters: {'lambda_l1': 0.3420684123196856, 'lambda_l2': 0.0014601110688114759, 'num_leaves': 88, 'feature_fraction': 0.9882737815101514, 'bagging_fraction': 0.7685193630306939, 'bagging_freq': 2, 'min_child_samples': 22, 'n_estimators': 107}. Best is trial 36 with value: 0.8783494829874797.\n",
      "[I 2024-06-15 20:32:15,798] Trial 38 finished with value: 0.7800829419960226 and parameters: {'lambda_l1': 9.496607239620664, 'lambda_l2': 0.00021908408665037088, 'num_leaves': 68, 'feature_fraction': 0.930230499731644, 'bagging_fraction': 0.4086223102556344, 'bagging_freq': 3, 'min_child_samples': 26, 'n_estimators': 117}. Best is trial 36 with value: 0.8783494829874797.\n",
      "[I 2024-06-15 20:32:16,133] Trial 39 finished with value: 0.7861148546182528 and parameters: {'lambda_l1': 0.00015870847152096921, 'lambda_l2': 0.022623290498722654, 'num_leaves': 7, 'feature_fraction': 0.9724782565303006, 'bagging_fraction': 0.872397714075017, 'bagging_freq': 3, 'min_child_samples': 18, 'n_estimators': 105}. Best is trial 36 with value: 0.8783494829874797.\n",
      "[I 2024-06-15 20:32:16,634] Trial 40 finished with value: 0.8657307352582044 and parameters: {'lambda_l1': 0.2600009181129085, 'lambda_l2': 0.010096968846290712, 'num_leaves': 119, 'feature_fraction': 0.8720999863066389, 'bagging_fraction': 0.5782835681232834, 'bagging_freq': 2, 'min_child_samples': 12, 'n_estimators': 101}. Best is trial 36 with value: 0.8783494829874797.\n",
      "[I 2024-06-15 20:32:16,929] Trial 41 finished with value: 0.831768660457174 and parameters: {'lambda_l1': 1.9167308276339394, 'lambda_l2': 0.1598616112635878, 'num_leaves': 213, 'feature_fraction': 0.7224131797114152, 'bagging_fraction': 0.6899034434306528, 'bagging_freq': 5, 'min_child_samples': 44, 'n_estimators': 142}. Best is trial 36 with value: 0.8783494829874797.\n",
      "[I 2024-06-15 20:32:17,408] Trial 42 finished with value: 0.8754182633915141 and parameters: {'lambda_l1': 0.10202556344305085, 'lambda_l2': 0.04556409290962123, 'num_leaves': 94, 'feature_fraction': 0.9182063608672824, 'bagging_fraction': 0.682052216636316, 'bagging_freq': 4, 'min_child_samples': 31, 'n_estimators': 171}. Best is trial 36 with value: 0.8783494829874797.\n",
      "[I 2024-06-15 20:32:17,811] Trial 43 finished with value: 0.8578672153209563 and parameters: {'lambda_l1': 0.023647049004457854, 'lambda_l2': 0.042453776104017696, 'num_leaves': 50, 'feature_fraction': 0.9239754829579665, 'bagging_fraction': 0.6469532829352126, 'bagging_freq': 3, 'min_child_samples': 32, 'n_estimators': 182}. Best is trial 36 with value: 0.8783494829874797.\n",
      "[I 2024-06-15 20:32:18,139] Trial 44 finished with value: 0.8656401794968375 and parameters: {'lambda_l1': 0.7750670426724646, 'lambda_l2': 0.002119261063107269, 'num_leaves': 94, 'feature_fraction': 0.8740291405691432, 'bagging_fraction': 0.7467138417085772, 'bagging_freq': 4, 'min_child_samples': 35, 'n_estimators': 178}. Best is trial 36 with value: 0.8783494829874797.\n",
      "[I 2024-06-15 20:32:18,675] Trial 45 finished with value: 0.873699191794962 and parameters: {'lambda_l1': 0.15261535821199348, 'lambda_l2': 0.00032163447559970237, 'num_leaves': 78, 'feature_fraction': 0.9651008991770833, 'bagging_fraction': 0.9939477426255743, 'bagging_freq': 3, 'min_child_samples': 26, 'n_estimators': 169}. Best is trial 36 with value: 0.8783494829874797.\n",
      "[I 2024-06-15 20:32:19,040] Trial 46 finished with value: 0.7861148546182528 and parameters: {'lambda_l1': 6.784306073028816e-06, 'lambda_l2': 0.010405664270443213, 'num_leaves': 114, 'feature_fraction': 0.9316180924277897, 'bagging_fraction': 0.6144849825743343, 'bagging_freq': 4, 'min_child_samples': 43, 'n_estimators': 159}. Best is trial 36 with value: 0.8783494829874797.\n",
      "[I 2024-06-15 20:32:19,462] Trial 47 finished with value: 0.87608305876659 and parameters: {'lambda_l1': 0.05405515483662376, 'lambda_l2': 0.0007605476258664026, 'num_leaves': 100, 'feature_fraction': 0.9034004575351325, 'bagging_fraction': 0.8446946905591325, 'bagging_freq': 4, 'min_child_samples': 55, 'n_estimators': 191}. Best is trial 36 with value: 0.8783494829874797.\n",
      "[I 2024-06-15 20:32:19,819] Trial 48 finished with value: 0.7861148546182528 and parameters: {'lambda_l1': 0.006238825899637504, 'lambda_l2': 2.1745546724074642e-05, 'num_leaves': 74, 'feature_fraction': 0.8376065555624437, 'bagging_fraction': 0.8373140336131281, 'bagging_freq': 5, 'min_child_samples': 71, 'n_estimators': 127}. Best is trial 36 with value: 0.8783494829874797.\n",
      "[I 2024-06-15 20:32:20,203] Trial 49 finished with value: 0.8697408960320461 and parameters: {'lambda_l1': 0.04011451570850348, 'lambda_l2': 3.0831322538220924e-08, 'num_leaves': 138, 'feature_fraction': 0.529217731476266, 'bagging_fraction': 0.8926273682148647, 'bagging_freq': 1, 'min_child_samples': 61, 'n_estimators': 133}. Best is trial 36 with value: 0.8783494829874797.\n",
      "[I 2024-06-15 20:32:20,577] Trial 50 finished with value: 0.7861148546182528 and parameters: {'lambda_l1': 0.0008229221461054437, 'lambda_l2': 0.0010546303227158607, 'num_leaves': 104, 'feature_fraction': 0.9656229463888928, 'bagging_fraction': 0.906097597547917, 'bagging_freq': 3, 'min_child_samples': 56, 'n_estimators': 190}. Best is trial 36 with value: 0.8783494829874797.\n",
      "[I 2024-06-15 20:32:21,037] Trial 51 finished with value: 0.8669947303644928 and parameters: {'lambda_l1': 0.08302570404082277, 'lambda_l2': 0.011485764436791718, 'num_leaves': 99, 'feature_fraction': 0.905259684515732, 'bagging_fraction': 0.8313702950792409, 'bagging_freq': 4, 'min_child_samples': 50, 'n_estimators': 190}. Best is trial 36 with value: 0.8783494829874797.\n",
      "[I 2024-06-15 20:32:21,414] Trial 52 finished with value: 0.8712602026645765 and parameters: {'lambda_l1': 0.4293714351013513, 'lambda_l2': 0.000500286011931531, 'num_leaves': 63, 'feature_fraction': 0.8649243668951958, 'bagging_fraction': 0.7216964212717851, 'bagging_freq': 4, 'min_child_samples': 34, 'n_estimators': 180}. Best is trial 36 with value: 0.8783494829874797.\n",
      "[I 2024-06-15 20:32:21,825] Trial 53 finished with value: 0.8572738476303646 and parameters: {'lambda_l1': 0.021097107054202164, 'lambda_l2': 0.0025116413721085504, 'num_leaves': 123, 'feature_fraction': 0.9423613721050469, 'bagging_fraction': 0.675250407743677, 'bagging_freq': 5, 'min_child_samples': 41, 'n_estimators': 172}. Best is trial 36 with value: 0.8783494829874797.\n",
      "[I 2024-06-15 20:32:22,213] Trial 54 finished with value: 0.8733593251417849 and parameters: {'lambda_l1': 0.08127275067121764, 'lambda_l2': 0.05170422322746446, 'num_leaves': 96, 'feature_fraction': 0.8899236990485422, 'bagging_fraction': 0.7680246961073127, 'bagging_freq': 4, 'min_child_samples': 53, 'n_estimators': 148}. Best is trial 36 with value: 0.8783494829874797.\n",
      "[I 2024-06-15 20:32:22,463] Trial 55 finished with value: 0.8567626525062095 and parameters: {'lambda_l1': 1.2856150720029484, 'lambda_l2': 0.2386483325914621, 'num_leaves': 54, 'feature_fraction': 0.9951050058820008, 'bagging_fraction': 0.800287387959834, 'bagging_freq': 5, 'min_child_samples': 47, 'n_estimators': 199}. Best is trial 36 with value: 0.8783494829874797.\n",
      "[I 2024-06-15 20:32:22,693] Trial 56 finished with value: 0.7623123188025696 and parameters: {'lambda_l1': 4.854276084896086, 'lambda_l2': 0.004644623248239582, 'num_leaves': 32, 'feature_fraction': 0.788551235115176, 'bagging_fraction': 0.7245521810001041, 'bagging_freq': 4, 'min_child_samples': 87, 'n_estimators': 187}. Best is trial 36 with value: 0.8783494829874797.\n",
      "[I 2024-06-15 20:32:23,104] Trial 57 finished with value: 0.8746318646179756 and parameters: {'lambda_l1': 0.18266143997095183, 'lambda_l2': 0.00017665202223619947, 'num_leaves': 88, 'feature_fraction': 0.8327796756394078, 'bagging_fraction': 0.8482205495187594, 'bagging_freq': 2, 'min_child_samples': 62, 'n_estimators': 114}. Best is trial 36 with value: 0.8783494829874797.\n",
      "[I 2024-06-15 20:32:23,623] Trial 58 finished with value: 0.8634464480031475 and parameters: {'lambda_l1': 0.04442527857059373, 'lambda_l2': 0.030842008564654036, 'num_leaves': 132, 'feature_fraction': 0.4077401920551461, 'bagging_fraction': 0.9482181476291331, 'bagging_freq': 6, 'min_child_samples': 27, 'n_estimators': 156}. Best is trial 36 with value: 0.8783494829874797.\n",
      "[I 2024-06-15 20:32:24,011] Trial 59 finished with value: 0.860284380637534 and parameters: {'lambda_l1': 0.5137213674298127, 'lambda_l2': 0.07549806779028741, 'num_leaves': 116, 'feature_fraction': 0.913277791547817, 'bagging_fraction': 0.5506617147964588, 'bagging_freq': 5, 'min_child_samples': 19, 'n_estimators': 194}. Best is trial 36 with value: 0.8783494829874797.\n",
      "[I 2024-06-15 20:32:24,359] Trial 60 finished with value: 0.8139648522699403 and parameters: {'lambda_l1': 0.012266101526132422, 'lambda_l2': 0.34827836275271384, 'num_leaves': 108, 'feature_fraction': 0.9535287616784148, 'bagging_fraction': 0.6850085916528087, 'bagging_freq': 3, 'min_child_samples': 54, 'n_estimators': 169}. Best is trial 36 with value: 0.8783494829874797.\n",
      "[I 2024-06-15 20:32:24,802] Trial 61 finished with value: 0.8734876748837787 and parameters: {'lambda_l1': 0.11749604984719894, 'lambda_l2': 0.13491024827276402, 'num_leaves': 166, 'feature_fraction': 0.7516185949711168, 'bagging_fraction': 0.7105739193037285, 'bagging_freq': 5, 'min_child_samples': 38, 'n_estimators': 156}. Best is trial 36 with value: 0.8783494829874797.\n",
      "[I 2024-06-15 20:32:25,243] Trial 62 finished with value: 0.8749932903487497 and parameters: {'lambda_l1': 0.28164504979305455, 'lambda_l2': 0.01499428657434269, 'num_leaves': 161, 'feature_fraction': 0.7250278456917636, 'bagging_fraction': 0.7878118510530809, 'bagging_freq': 6, 'min_child_samples': 34, 'n_estimators': 140}. Best is trial 36 with value: 0.8783494829874797.\n",
      "[I 2024-06-15 20:32:25,624] Trial 63 finished with value: 0.8763498096940288 and parameters: {'lambda_l1': 0.04642704803997538, 'lambda_l2': 3.0474875849677057, 'num_leaves': 179, 'feature_fraction': 0.8161490273187624, 'bagging_fraction': 0.7600266346918644, 'bagging_freq': 4, 'min_child_samples': 48, 'n_estimators': 166}. Best is trial 36 with value: 0.8783494829874797.\n",
      "[I 2024-06-15 20:32:26,014] Trial 64 finished with value: 0.8719410060635845 and parameters: {'lambda_l1': 0.04547669170944859, 'lambda_l2': 2.3719758951438683, 'num_leaves': 184, 'feature_fraction': 0.7961864355713402, 'bagging_fraction': 0.7564688238999415, 'bagging_freq': 4, 'min_child_samples': 46, 'n_estimators': 160}. Best is trial 36 with value: 0.8783494829874797.\n",
      "[I 2024-06-15 20:32:26,345] Trial 65 finished with value: 0.7861148546182528 and parameters: {'lambda_l1': 0.006011601406062133, 'lambda_l2': 6.136062149061158, 'num_leaves': 82, 'feature_fraction': 0.8845790707104089, 'bagging_fraction': 0.8095396518121111, 'bagging_freq': 4, 'min_child_samples': 50, 'n_estimators': 166}. Best is trial 36 with value: 0.8783494829874797.\n",
      "[I 2024-06-15 20:32:26,728] Trial 66 finished with value: 0.8458023492608838 and parameters: {'lambda_l1': 0.022332830833402435, 'lambda_l2': 0.8010500430931762, 'num_leaves': 230, 'feature_fraction': 0.8220571606222029, 'bagging_fraction': 0.6567866535030592, 'bagging_freq': 3, 'min_child_samples': 59, 'n_estimators': 176}. Best is trial 36 with value: 0.8783494829874797.\n",
      "[I 2024-06-15 20:32:27,029] Trial 67 finished with value: 0.7050329105785391 and parameters: {'lambda_l1': 1.3051173045431184, 'lambda_l2': 0.005840428494540962, 'num_leaves': 139, 'feature_fraction': 0.8391638248384731, 'bagging_fraction': 0.636315798911019, 'bagging_freq': 4, 'min_child_samples': 12, 'n_estimators': 148}. Best is trial 36 with value: 0.8783494829874797.\n",
      "[I 2024-06-15 20:32:27,381] Trial 68 finished with value: 0.7861148546182528 and parameters: {'lambda_l1': 0.0025112369251159158, 'lambda_l2': 1.7726441731120695, 'num_leaves': 202, 'feature_fraction': 0.6548109168761989, 'bagging_fraction': 0.5950411044921886, 'bagging_freq': 4, 'min_child_samples': 41, 'n_estimators': 144}. Best is trial 36 with value: 0.8783494829874797.\n",
      "[I 2024-06-15 20:32:27,717] Trial 69 finished with value: 0.8640559432221947 and parameters: {'lambda_l1': 0.06322826819649108, 'lambda_l2': 9.556633680348016, 'num_leaves': 125, 'feature_fraction': 0.8622319339053429, 'bagging_fraction': 0.7578975985171598, 'bagging_freq': 7, 'min_child_samples': 68, 'n_estimators': 152}. Best is trial 36 with value: 0.8783494829874797.\n",
      "[I 2024-06-15 20:32:28,134] Trial 70 finished with value: 0.868136335899995 and parameters: {'lambda_l1': 0.6033154421303623, 'lambda_l2': 0.000624324708141127, 'num_leaves': 101, 'feature_fraction': 0.9739166000152555, 'bagging_fraction': 0.7345732245488863, 'bagging_freq': 5, 'min_child_samples': 23, 'n_estimators': 129}. Best is trial 36 with value: 0.8783494829874797.\n",
      "[I 2024-06-15 20:32:28,595] Trial 71 finished with value: 0.8792023288751383 and parameters: {'lambda_l1': 0.15340649061509998, 'lambda_l2': 0.1001731171950097, 'num_leaves': 152, 'feature_fraction': 0.7812309120031281, 'bagging_fraction': 0.7033075511686662, 'bagging_freq': 5, 'min_child_samples': 29, 'n_estimators': 162}. Best is trial 71 with value: 0.8792023288751383.\n",
      "[I 2024-06-15 20:32:29,057] Trial 72 finished with value: 0.8782702732516224 and parameters: {'lambda_l1': 0.19559528034618795, 'lambda_l2': 0.032267644862919755, 'num_leaves': 173, 'feature_fraction': 0.7828309013953015, 'bagging_fraction': 0.6997882823066576, 'bagging_freq': 5, 'min_child_samples': 29, 'n_estimators': 162}. Best is trial 71 with value: 0.8792023288751383.\n",
      "[I 2024-06-15 20:32:29,530] Trial 73 finished with value: 0.882034286180137 and parameters: {'lambda_l1': 0.2182540395675476, 'lambda_l2': 0.021661970742062546, 'num_leaves': 175, 'feature_fraction': 0.7572570926363557, 'bagging_fraction': 0.7032962950331566, 'bagging_freq': 5, 'min_child_samples': 28, 'n_estimators': 162}. Best is trial 73 with value: 0.882034286180137.\n",
      "[I 2024-06-15 20:32:29,974] Trial 74 finished with value: 0.8770608068526279 and parameters: {'lambda_l1': 0.26247937711065233, 'lambda_l2': 0.022522144379130984, 'num_leaves': 176, 'feature_fraction': 0.7832343240384122, 'bagging_fraction': 0.6589988901592154, 'bagging_freq': 6, 'min_child_samples': 28, 'n_estimators': 163}. Best is trial 73 with value: 0.882034286180137.\n",
      "[I 2024-06-15 20:32:30,423] Trial 75 finished with value: 0.876065984715637 and parameters: {'lambda_l1': 0.23310371811572692, 'lambda_l2': 0.02221920969577568, 'num_leaves': 175, 'feature_fraction': 0.7628221860917987, 'bagging_fraction': 0.710134093362634, 'bagging_freq': 6, 'min_child_samples': 28, 'n_estimators': 166}. Best is trial 73 with value: 0.882034286180137.\n",
      "[I 2024-06-15 20:32:30,676] Trial 76 finished with value: 0.7775775358327562 and parameters: {'lambda_l1': 2.590391044164397, 'lambda_l2': 0.07977074521309133, 'num_leaves': 159, 'feature_fraction': 0.7840977223742397, 'bagging_fraction': 0.6643324018815586, 'bagging_freq': 6, 'min_child_samples': 24, 'n_estimators': 161}. Best is trial 73 with value: 0.882034286180137.\n",
      "[I 2024-06-15 20:32:30,996] Trial 77 finished with value: 0.8706702788888796 and parameters: {'lambda_l1': 0.798953365037525, 'lambda_l2': 0.0030974660719777416, 'num_leaves': 189, 'feature_fraction': 0.7336859715564567, 'bagging_fraction': 0.6981043131335105, 'bagging_freq': 5, 'min_child_samples': 20, 'n_estimators': 163}. Best is trial 73 with value: 0.882034286180137.\n",
      "[I 2024-06-15 20:32:31,419] Trial 78 finished with value: 0.8715711570466553 and parameters: {'lambda_l1': 0.3508345078249835, 'lambda_l2': 6.505608237036448e-07, 'num_leaves': 179, 'feature_fraction': 0.6866813818512618, 'bagging_fraction': 0.6323016670636943, 'bagging_freq': 6, 'min_child_samples': 32, 'n_estimators': 155}. Best is trial 73 with value: 0.882034286180137.\n",
      "[I 2024-06-15 20:32:31,940] Trial 79 finished with value: 0.8709537703933959 and parameters: {'lambda_l1': 0.1775951854977309, 'lambda_l2': 0.008055100682788235, 'num_leaves': 151, 'feature_fraction': 0.7548580872101103, 'bagging_fraction': 0.6467579311820386, 'bagging_freq': 7, 'min_child_samples': 15, 'n_estimators': 167}. Best is trial 73 with value: 0.882034286180137.\n",
      "[I 2024-06-15 20:32:32,243] Trial 80 finished with value: 0.858714049108157 and parameters: {'lambda_l1': 1.275594069792343, 'lambda_l2': 0.45852529651080587, 'num_leaves': 169, 'feature_fraction': 0.7804572788238877, 'bagging_fraction': 0.6139620208423785, 'bagging_freq': 5, 'min_child_samples': 29, 'n_estimators': 158}. Best is trial 73 with value: 0.882034286180137.\n",
      "[I 2024-06-15 20:32:32,670] Trial 81 finished with value: 0.886815034387892 and parameters: {'lambda_l1': 0.13043899484996097, 'lambda_l2': 0.014557861665952868, 'num_leaves': 200, 'feature_fraction': 0.8018765079162634, 'bagging_fraction': 0.6680007586477517, 'bagging_freq': 5, 'min_child_samples': 37, 'n_estimators': 150}. Best is trial 81 with value: 0.886815034387892.\n",
      "[I 2024-06-15 20:32:33,097] Trial 82 finished with value: 0.8783236975327213 and parameters: {'lambda_l1': 0.13853450871623937, 'lambda_l2': 0.03386450807812574, 'num_leaves': 198, 'feature_fraction': 0.8046890507563252, 'bagging_fraction': 0.6713958668243547, 'bagging_freq': 5, 'min_child_samples': 36, 'n_estimators': 149}. Best is trial 81 with value: 0.886815034387892.\n",
      "[I 2024-06-15 20:32:33,336] Trial 83 finished with value: 0.780269387753399 and parameters: {'lambda_l1': 4.5041370754868275, 'lambda_l2': 0.03594060005232239, 'num_leaves': 219, 'feature_fraction': 0.7134439242269269, 'bagging_fraction': 0.6695798008862499, 'bagging_freq': 5, 'min_child_samples': 37, 'n_estimators': 150}. Best is trial 81 with value: 0.886815034387892.\n",
      "[I 2024-06-15 20:32:33,842] Trial 84 finished with value: 0.8716072729014662 and parameters: {'lambda_l1': 0.15150688581302318, 'lambda_l2': 0.019196558697891004, 'num_leaves': 208, 'feature_fraction': 0.7012110823606948, 'bagging_fraction': 0.7001364299432641, 'bagging_freq': 5, 'min_child_samples': 25, 'n_estimators': 146}. Best is trial 81 with value: 0.886815034387892.\n",
      "[I 2024-06-15 20:32:34,199] Trial 85 finished with value: 0.8730592905393151 and parameters: {'lambda_l1': 0.6102541533091318, 'lambda_l2': 0.08796338193558877, 'num_leaves': 195, 'feature_fraction': 0.7974346604926825, 'bagging_fraction': 0.7257984746080813, 'bagging_freq': 5, 'min_child_samples': 32, 'n_estimators': 154}. Best is trial 81 with value: 0.886815034387892.\n",
      "[I 2024-06-15 20:32:34,583] Trial 86 finished with value: 0.8611816660103067 and parameters: {'lambda_l1': 0.3987315714675977, 'lambda_l2': 0.003864203757543734, 'num_leaves': 186, 'feature_fraction': 0.7450393650823646, 'bagging_fraction': 0.6232379432389082, 'bagging_freq': 5, 'min_child_samples': 35, 'n_estimators': 163}. Best is trial 81 with value: 0.886815034387892.\n",
      "[I 2024-06-15 20:32:35,035] Trial 87 finished with value: 0.7861148546182528 and parameters: {'lambda_l1': 7.730034476670785e-05, 'lambda_l2': 0.013136245807576916, 'num_leaves': 193, 'feature_fraction': 0.7704955209904665, 'bagging_fraction': 0.5972264885077125, 'bagging_freq': 6, 'min_child_samples': 22, 'n_estimators': 150}. Best is trial 81 with value: 0.886815034387892.\n",
      "[I 2024-06-15 20:32:35,480] Trial 88 finished with value: 0.8791704387876544 and parameters: {'lambda_l1': 0.11035895782609773, 'lambda_l2': 0.0014319120030918246, 'num_leaves': 157, 'feature_fraction': 0.8129556365233721, 'bagging_fraction': 0.6544526247125837, 'bagging_freq': 5, 'min_child_samples': 29, 'n_estimators': 158}. Best is trial 81 with value: 0.886815034387892.\n",
      "[I 2024-06-15 20:32:35,941] Trial 89 finished with value: 0.8762099416770145 and parameters: {'lambda_l1': 0.13321665718243925, 'lambda_l2': 0.001554507270748347, 'num_leaves': 156, 'feature_fraction': 0.8265946898883709, 'bagging_fraction': 0.6483197316412905, 'bagging_freq': 6, 'min_child_samples': 28, 'n_estimators': 158}. Best is trial 81 with value: 0.886815034387892.\n",
      "[I 2024-06-15 20:32:36,367] Trial 90 finished with value: 0.7861148546182528 and parameters: {'lambda_l1': 1.8982974687431552e-06, 'lambda_l2': 0.25148573150769926, 'num_leaves': 145, 'feature_fraction': 0.8094481305351411, 'bagging_fraction': 0.6802770551699013, 'bagging_freq': 5, 'min_child_samples': 30, 'n_estimators': 163}. Best is trial 81 with value: 0.886815034387892.\n",
      "[I 2024-06-15 20:32:36,802] Trial 91 finished with value: 0.8718772144060786 and parameters: {'lambda_l1': 0.08450750449642337, 'lambda_l2': 0.008351190169452674, 'num_leaves': 173, 'feature_fraction': 0.8478794218697824, 'bagging_fraction': 0.6894729715998433, 'bagging_freq': 5, 'min_child_samples': 39, 'n_estimators': 161}. Best is trial 81 with value: 0.886815034387892.\n",
      "[I 2024-06-15 20:32:37,194] Trial 92 finished with value: 0.8717348730100005 and parameters: {'lambda_l1': 0.24746758690627324, 'lambda_l2': 0.03031385609154397, 'num_leaves': 203, 'feature_fraction': 0.7984658822042541, 'bagging_fraction': 0.5797109123320758, 'bagging_freq': 5, 'min_child_samples': 42, 'n_estimators': 152}. Best is trial 81 with value: 0.886815034387892.\n",
      "[I 2024-06-15 20:32:37,597] Trial 93 finished with value: 0.8667029713929587 and parameters: {'lambda_l1': 0.02650133752824415, 'lambda_l2': 0.1201562034574752, 'num_leaves': 166, 'feature_fraction': 0.766131090997958, 'bagging_fraction': 0.6524775531876932, 'bagging_freq': 5, 'min_child_samples': 33, 'n_estimators': 158}. Best is trial 81 with value: 0.886815034387892.\n",
      "[I 2024-06-15 20:32:37,895] Trial 94 finished with value: 0.8602482471302298 and parameters: {'lambda_l1': 0.9222031662065331, 'lambda_l2': 0.014592542250357877, 'num_leaves': 233, 'feature_fraction': 0.7872649209532638, 'bagging_fraction': 0.6661134882568965, 'bagging_freq': 6, 'min_child_samples': 36, 'n_estimators': 150}. Best is trial 81 with value: 0.886815034387892.\n",
      "[I 2024-06-15 20:32:38,159] Trial 95 finished with value: 0.7867629835989901 and parameters: {'lambda_l1': 2.0917398592162773, 'lambda_l2': 0.0017919580845767351, 'num_leaves': 153, 'feature_fraction': 0.7568597646725224, 'bagging_fraction': 0.7156276117017861, 'bagging_freq': 5, 'min_child_samples': 26, 'n_estimators': 146}. Best is trial 81 with value: 0.886815034387892.\n",
      "[I 2024-06-15 20:32:38,617] Trial 96 finished with value: 0.8745963042452167 and parameters: {'lambda_l1': 0.26161341358565476, 'lambda_l2': 0.03916779218403266, 'num_leaves': 162, 'feature_fraction': 0.8071510383241687, 'bagging_fraction': 0.7364606108893819, 'bagging_freq': 5, 'min_child_samples': 21, 'n_estimators': 172}. Best is trial 81 with value: 0.886815034387892.\n",
      "[I 2024-06-15 20:32:39,069] Trial 97 finished with value: 0.8736639040752548 and parameters: {'lambda_l1': 0.09834956427420001, 'lambda_l2': 0.005069611512239661, 'num_leaves': 184, 'feature_fraction': 0.8411280773130989, 'bagging_fraction': 0.6253068808637272, 'bagging_freq': 6, 'min_child_samples': 30, 'n_estimators': 110}. Best is trial 81 with value: 0.886815034387892.\n",
      "[I 2024-06-15 20:32:39,462] Trial 98 finished with value: 0.8685143917885527 and parameters: {'lambda_l1': 0.47857638601185004, 'lambda_l2': 0.06267400006233217, 'num_leaves': 176, 'feature_fraction': 0.7396132647336081, 'bagging_fraction': 0.6928789174552613, 'bagging_freq': 5, 'min_child_samples': 17, 'n_estimators': 168}. Best is trial 81 with value: 0.886815034387892.\n",
      "[I 2024-06-15 20:32:39,910] Trial 99 finished with value: 0.8651137630728559 and parameters: {'lambda_l1': 0.029993719707392452, 'lambda_l2': 0.007257382881128704, 'num_leaves': 217, 'feature_fraction': 0.7758958918712519, 'bagging_fraction': 0.6786085718301336, 'bagging_freq': 7, 'min_child_samples': 38, 'n_estimators': 137}. Best is trial 81 with value: 0.886815034387892.\n"
     ]
    }
   ],
   "source": [
    "def objective(trial):\n",
    "\n",
    "    param = {\n",
    "        'objective': 'binary',\n",
    "        'metric': 'binary_logloss',\n",
    "        'verbosity': -1,\n",
    "        'boosting_type': 'gbdt',\n",
    "        'lambda_l1': trial.suggest_float('lambda_l1', 1e-8, 10.0, log=True),\n",
    "        'lambda_l2': trial.suggest_float('lambda_l2', 1e-8, 10.0, log=True),\n",
    "        'num_leaves': trial.suggest_int('num_leaves', 2, 256),\n",
    "        'feature_fraction': trial.suggest_float('feature_fraction', 0.4, 1.0),\n",
    "        'bagging_fraction': trial.suggest_float('bagging_fraction', 0.4, 1.0),\n",
    "        'bagging_freq': trial.suggest_int('bagging_freq', 1, 7),\n",
    "        'min_child_samples': trial.suggest_int('min_child_samples', 5, 100),\n",
    "        'learning_rate': trial.suggest_float('lambda_l1', 1e-8, 10.0, log=True),\n",
    "        'n_estimators ': trial.suggest_int('n_estimators', 100, 200),\n",
    "    }\n",
    "    \n",
    "    lgbm = LGBMClassifier(**param)\n",
    "    \n",
    "    scores = cross_val_score(lgbm, X_train, y_train, cv=10, scoring='f1_weighted')\n",
    "\n",
    "    return np.mean(scores)\n",
    "\n",
    "study = optuna.create_study(direction='maximize')\n",
    "study.optimize(objective, n_trials=100)"
   ]
  },
  {
   "cell_type": "code",
   "execution_count": 42,
   "metadata": {},
   "outputs": [
    {
     "name": "stdout",
     "output_type": "stream",
     "text": [
      "[LightGBM] [Warning] feature_fraction is set=0.8018765079162634, colsample_bytree=1.0 will be ignored. Current value: feature_fraction=0.8018765079162634\n",
      "[LightGBM] [Warning] lambda_l1 is set=0.13043899484996097, reg_alpha=0.0 will be ignored. Current value: lambda_l1=0.13043899484996097\n",
      "[LightGBM] [Warning] lambda_l2 is set=0.014557861665952868, reg_lambda=0.0 will be ignored. Current value: lambda_l2=0.014557861665952868\n",
      "[LightGBM] [Warning] bagging_fraction is set=0.6680007586477517, subsample=1.0 will be ignored. Current value: bagging_fraction=0.6680007586477517\n",
      "[LightGBM] [Warning] bagging_freq is set=5, subsample_freq=0 will be ignored. Current value: bagging_freq=5\n",
      "[LightGBM] [Warning] Found whitespace in feature_names, replace with underlines\n",
      "[LightGBM] [Warning] feature_fraction is set=0.8018765079162634, colsample_bytree=1.0 will be ignored. Current value: feature_fraction=0.8018765079162634\n",
      "[LightGBM] [Warning] lambda_l1 is set=0.13043899484996097, reg_alpha=0.0 will be ignored. Current value: lambda_l1=0.13043899484996097\n",
      "[LightGBM] [Warning] lambda_l2 is set=0.014557861665952868, reg_lambda=0.0 will be ignored. Current value: lambda_l2=0.014557861665952868\n",
      "[LightGBM] [Warning] bagging_fraction is set=0.6680007586477517, subsample=1.0 will be ignored. Current value: bagging_fraction=0.6680007586477517\n",
      "[LightGBM] [Warning] bagging_freq is set=5, subsample_freq=0 will be ignored. Current value: bagging_freq=5\n",
      "[LightGBM] [Info] Number of positive: 198, number of negative: 1154\n",
      "[LightGBM] [Info] Auto-choosing col-wise multi-threading, the overhead of testing was 0.000274 seconds.\n",
      "You can set `force_col_wise=true` to remove the overhead.\n",
      "[LightGBM] [Info] Total Bins 2287\n",
      "[LightGBM] [Info] Number of data points in the train set: 1352, number of used features: 39\n",
      "[LightGBM] [Info] [binary:BoostFromScore]: pavg=0.146450 -> initscore=-1.762722\n",
      "[LightGBM] [Info] Start training from score -1.762722\n",
      "[LightGBM] [Warning] No further splits with positive gain, best gain: -inf\n",
      "[LightGBM] [Warning] No further splits with positive gain, best gain: -inf\n",
      "[LightGBM] [Warning] No further splits with positive gain, best gain: -inf\n",
      "[LightGBM] [Warning] No further splits with positive gain, best gain: -inf\n",
      "[LightGBM] [Warning] No further splits with positive gain, best gain: -inf\n",
      "[LightGBM] [Warning] No further splits with positive gain, best gain: -inf\n",
      "[LightGBM] [Warning] No further splits with positive gain, best gain: -inf\n",
      "[LightGBM] [Warning] No further splits with positive gain, best gain: -inf\n",
      "[LightGBM] [Warning] No further splits with positive gain, best gain: -inf\n",
      "[LightGBM] [Warning] No further splits with positive gain, best gain: -inf\n",
      "[LightGBM] [Warning] No further splits with positive gain, best gain: -inf\n",
      "[LightGBM] [Warning] No further splits with positive gain, best gain: -inf\n",
      "[LightGBM] [Warning] No further splits with positive gain, best gain: -inf\n",
      "[LightGBM] [Warning] No further splits with positive gain, best gain: -inf\n",
      "[LightGBM] [Warning] No further splits with positive gain, best gain: -inf\n",
      "[LightGBM] [Warning] No further splits with positive gain, best gain: -inf\n",
      "[LightGBM] [Warning] No further splits with positive gain, best gain: -inf\n",
      "[LightGBM] [Warning] No further splits with positive gain, best gain: -inf\n",
      "[LightGBM] [Warning] No further splits with positive gain, best gain: -inf\n",
      "[LightGBM] [Warning] No further splits with positive gain, best gain: -inf\n",
      "[LightGBM] [Warning] No further splits with positive gain, best gain: -inf\n",
      "[LightGBM] [Warning] No further splits with positive gain, best gain: -inf\n",
      "[LightGBM] [Warning] No further splits with positive gain, best gain: -inf\n",
      "[LightGBM] [Warning] No further splits with positive gain, best gain: -inf\n",
      "[LightGBM] [Warning] No further splits with positive gain, best gain: -inf\n",
      "[LightGBM] [Warning] No further splits with positive gain, best gain: -inf\n",
      "[LightGBM] [Warning] No further splits with positive gain, best gain: -inf\n",
      "[LightGBM] [Warning] No further splits with positive gain, best gain: -inf\n",
      "[LightGBM] [Warning] No further splits with positive gain, best gain: -inf\n",
      "[LightGBM] [Warning] No further splits with positive gain, best gain: -inf\n",
      "[LightGBM] [Warning] No further splits with positive gain, best gain: -inf\n",
      "[LightGBM] [Warning] No further splits with positive gain, best gain: -inf\n",
      "[LightGBM] [Warning] No further splits with positive gain, best gain: -inf\n",
      "[LightGBM] [Warning] No further splits with positive gain, best gain: -inf\n",
      "[LightGBM] [Warning] No further splits with positive gain, best gain: -inf\n",
      "[LightGBM] [Warning] No further splits with positive gain, best gain: -inf\n",
      "[LightGBM] [Warning] No further splits with positive gain, best gain: -inf\n",
      "[LightGBM] [Warning] No further splits with positive gain, best gain: -inf\n",
      "[LightGBM] [Warning] No further splits with positive gain, best gain: -inf\n",
      "[LightGBM] [Warning] No further splits with positive gain, best gain: -inf\n",
      "[LightGBM] [Warning] No further splits with positive gain, best gain: -inf\n",
      "[LightGBM] [Warning] No further splits with positive gain, best gain: -inf\n",
      "[LightGBM] [Warning] No further splits with positive gain, best gain: -inf\n",
      "[LightGBM] [Warning] No further splits with positive gain, best gain: -inf\n",
      "[LightGBM] [Warning] No further splits with positive gain, best gain: -inf\n",
      "[LightGBM] [Warning] No further splits with positive gain, best gain: -inf\n",
      "[LightGBM] [Warning] No further splits with positive gain, best gain: -inf\n",
      "[LightGBM] [Warning] No further splits with positive gain, best gain: -inf\n",
      "[LightGBM] [Warning] No further splits with positive gain, best gain: -inf\n",
      "[LightGBM] [Warning] No further splits with positive gain, best gain: -inf\n",
      "[LightGBM] [Warning] No further splits with positive gain, best gain: -inf\n",
      "[LightGBM] [Warning] No further splits with positive gain, best gain: -inf\n",
      "[LightGBM] [Warning] No further splits with positive gain, best gain: -inf\n",
      "[LightGBM] [Warning] No further splits with positive gain, best gain: -inf\n",
      "[LightGBM] [Warning] No further splits with positive gain, best gain: -inf\n",
      "[LightGBM] [Warning] No further splits with positive gain, best gain: -inf\n",
      "[LightGBM] [Warning] No further splits with positive gain, best gain: -inf\n",
      "[LightGBM] [Warning] No further splits with positive gain, best gain: -inf\n",
      "[LightGBM] [Warning] No further splits with positive gain, best gain: -inf\n",
      "[LightGBM] [Warning] No further splits with positive gain, best gain: -inf\n",
      "[LightGBM] [Warning] No further splits with positive gain, best gain: -inf\n",
      "[LightGBM] [Warning] No further splits with positive gain, best gain: -inf\n",
      "[LightGBM] [Warning] No further splits with positive gain, best gain: -inf\n",
      "[LightGBM] [Warning] No further splits with positive gain, best gain: -inf\n",
      "[LightGBM] [Warning] No further splits with positive gain, best gain: -inf\n",
      "[LightGBM] [Warning] No further splits with positive gain, best gain: -inf\n",
      "[LightGBM] [Warning] No further splits with positive gain, best gain: -inf\n",
      "[LightGBM] [Warning] No further splits with positive gain, best gain: -inf\n",
      "[LightGBM] [Warning] No further splits with positive gain, best gain: -inf\n",
      "[LightGBM] [Warning] No further splits with positive gain, best gain: -inf\n",
      "[LightGBM] [Warning] No further splits with positive gain, best gain: -inf\n",
      "[LightGBM] [Warning] No further splits with positive gain, best gain: -inf\n",
      "[LightGBM] [Warning] No further splits with positive gain, best gain: -inf\n",
      "[LightGBM] [Warning] No further splits with positive gain, best gain: -inf\n",
      "[LightGBM] [Warning] No further splits with positive gain, best gain: -inf\n",
      "[LightGBM] [Warning] No further splits with positive gain, best gain: -inf\n",
      "[LightGBM] [Warning] No further splits with positive gain, best gain: -inf\n",
      "[LightGBM] [Warning] No further splits with positive gain, best gain: -inf\n",
      "[LightGBM] [Warning] No further splits with positive gain, best gain: -inf\n",
      "[LightGBM] [Warning] No further splits with positive gain, best gain: -inf\n",
      "[LightGBM] [Warning] No further splits with positive gain, best gain: -inf\n",
      "[LightGBM] [Warning] No further splits with positive gain, best gain: -inf\n",
      "[LightGBM] [Warning] No further splits with positive gain, best gain: -inf\n",
      "[LightGBM] [Warning] No further splits with positive gain, best gain: -inf\n",
      "[LightGBM] [Warning] No further splits with positive gain, best gain: -inf\n",
      "[LightGBM] [Warning] No further splits with positive gain, best gain: -inf\n",
      "[LightGBM] [Warning] No further splits with positive gain, best gain: -inf\n",
      "[LightGBM] [Warning] No further splits with positive gain, best gain: -inf\n",
      "[LightGBM] [Warning] No further splits with positive gain, best gain: -inf\n",
      "[LightGBM] [Warning] No further splits with positive gain, best gain: -inf\n",
      "[LightGBM] [Warning] No further splits with positive gain, best gain: -inf\n",
      "[LightGBM] [Warning] No further splits with positive gain, best gain: -inf\n",
      "[LightGBM] [Warning] No further splits with positive gain, best gain: -inf\n",
      "[LightGBM] [Warning] No further splits with positive gain, best gain: -inf\n",
      "[LightGBM] [Warning] No further splits with positive gain, best gain: -inf\n",
      "[LightGBM] [Warning] No further splits with positive gain, best gain: -inf\n",
      "[LightGBM] [Warning] No further splits with positive gain, best gain: -inf\n",
      "[LightGBM] [Warning] No further splits with positive gain, best gain: -inf\n",
      "[LightGBM] [Warning] No further splits with positive gain, best gain: -inf\n",
      "[LightGBM] [Warning] No further splits with positive gain, best gain: -inf\n",
      "[LightGBM] [Warning] No further splits with positive gain, best gain: -inf\n",
      "[LightGBM] [Warning] No further splits with positive gain, best gain: -inf\n",
      "[LightGBM] [Warning] No further splits with positive gain, best gain: -inf\n",
      "[LightGBM] [Warning] No further splits with positive gain, best gain: -inf\n",
      "[LightGBM] [Warning] No further splits with positive gain, best gain: -inf\n",
      "[LightGBM] [Warning] No further splits with positive gain, best gain: -inf\n",
      "[LightGBM] [Warning] No further splits with positive gain, best gain: -inf\n",
      "[LightGBM] [Warning] No further splits with positive gain, best gain: -inf\n",
      "[LightGBM] [Warning] No further splits with positive gain, best gain: -inf\n",
      "[LightGBM] [Warning] No further splits with positive gain, best gain: -inf\n",
      "[LightGBM] [Warning] No further splits with positive gain, best gain: -inf\n",
      "[LightGBM] [Warning] No further splits with positive gain, best gain: -inf\n",
      "[LightGBM] [Warning] No further splits with positive gain, best gain: -inf\n",
      "[LightGBM] [Warning] No further splits with positive gain, best gain: -inf\n",
      "[LightGBM] [Warning] No further splits with positive gain, best gain: -inf\n",
      "[LightGBM] [Warning] No further splits with positive gain, best gain: -inf\n",
      "[LightGBM] [Warning] No further splits with positive gain, best gain: -inf\n",
      "[LightGBM] [Warning] No further splits with positive gain, best gain: -inf\n",
      "[LightGBM] [Warning] No further splits with positive gain, best gain: -inf\n",
      "[LightGBM] [Warning] No further splits with positive gain, best gain: -inf\n",
      "[LightGBM] [Warning] No further splits with positive gain, best gain: -inf\n",
      "[LightGBM] [Warning] No further splits with positive gain, best gain: -inf\n",
      "[LightGBM] [Warning] No further splits with positive gain, best gain: -inf\n",
      "[LightGBM] [Warning] No further splits with positive gain, best gain: -inf\n",
      "[LightGBM] [Warning] No further splits with positive gain, best gain: -inf\n",
      "[LightGBM] [Warning] No further splits with positive gain, best gain: -inf\n",
      "[LightGBM] [Warning] No further splits with positive gain, best gain: -inf\n",
      "[LightGBM] [Warning] No further splits with positive gain, best gain: -inf\n",
      "[LightGBM] [Warning] No further splits with positive gain, best gain: -inf\n",
      "[LightGBM] [Warning] No further splits with positive gain, best gain: -inf\n",
      "[LightGBM] [Warning] No further splits with positive gain, best gain: -inf\n",
      "[LightGBM] [Warning] No further splits with positive gain, best gain: -inf\n",
      "[LightGBM] [Warning] No further splits with positive gain, best gain: -inf\n",
      "[LightGBM] [Warning] No further splits with positive gain, best gain: -inf\n",
      "[LightGBM] [Warning] No further splits with positive gain, best gain: -inf\n",
      "[LightGBM] [Warning] No further splits with positive gain, best gain: -inf\n",
      "[LightGBM] [Warning] No further splits with positive gain, best gain: -inf\n",
      "[LightGBM] [Warning] No further splits with positive gain, best gain: -inf\n",
      "[LightGBM] [Warning] No further splits with positive gain, best gain: -inf\n",
      "[LightGBM] [Warning] No further splits with positive gain, best gain: -inf\n",
      "[LightGBM] [Warning] No further splits with positive gain, best gain: -inf\n",
      "[LightGBM] [Warning] No further splits with positive gain, best gain: -inf\n",
      "[LightGBM] [Warning] No further splits with positive gain, best gain: -inf\n",
      "[LightGBM] [Warning] No further splits with positive gain, best gain: -inf\n",
      "[LightGBM] [Warning] No further splits with positive gain, best gain: -inf\n",
      "[LightGBM] [Warning] No further splits with positive gain, best gain: -inf\n",
      "[LightGBM] [Warning] No further splits with positive gain, best gain: -inf\n",
      "[LightGBM] [Warning] No further splits with positive gain, best gain: -inf\n",
      "[LightGBM] [Warning] No further splits with positive gain, best gain: -inf\n",
      "[LightGBM] [Warning] No further splits with positive gain, best gain: -inf\n",
      "[LightGBM] [Warning] feature_fraction is set=0.8018765079162634, colsample_bytree=1.0 will be ignored. Current value: feature_fraction=0.8018765079162634\n",
      "[LightGBM] [Warning] lambda_l1 is set=0.13043899484996097, reg_alpha=0.0 will be ignored. Current value: lambda_l1=0.13043899484996097\n",
      "[LightGBM] [Warning] lambda_l2 is set=0.014557861665952868, reg_lambda=0.0 will be ignored. Current value: lambda_l2=0.014557861665952868\n",
      "[LightGBM] [Warning] bagging_fraction is set=0.6680007586477517, subsample=1.0 will be ignored. Current value: bagging_fraction=0.6680007586477517\n",
      "[LightGBM] [Warning] bagging_freq is set=5, subsample_freq=0 will be ignored. Current value: bagging_freq=5\n",
      "              precision    recall  f1-score   support\n",
      "\n",
      "       False       0.89      0.96      0.92       553\n",
      "        True       0.68      0.43      0.53       113\n",
      "\n",
      "    accuracy                           0.87       666\n",
      "   macro avg       0.79      0.70      0.73       666\n",
      "weighted avg       0.86      0.87      0.86       666\n",
      "\n"
     ]
    }
   ],
   "source": [
    "final_clf = LGBMClassifier(**study.best_params)\n",
    "final_clf.fit(X_train, y_train)\n",
    "print(classification_report(y_test, final_clf.predict(X_test)))"
   ]
  },
  {
   "cell_type": "code",
   "execution_count": 44,
   "metadata": {},
   "outputs": [
    {
     "data": {
      "text/plain": [
       "<Axes: title={'center': 'Feature importance'}, xlabel='Feature importance', ylabel='Features'>"
      ]
     },
     "execution_count": 44,
     "metadata": {},
     "output_type": "execute_result"
    },
    {
     "data": {
      "image/png": "[encoded data removed]",
      "text/plain": [
       "<Figure size 640x480 with 1 Axes>"
      ]
     },
     "metadata": {},
     "output_type": "display_data"
    }
   ],
   "source": [
    "plot_importance(final_clf)"
   ]
  },
  {
   "cell_type": "markdown",
   "metadata": {},
   "source": [
    "# Saving model"
   ]
  },
  {
   "cell_type": "code",
   "execution_count": 45,
   "metadata": {},
   "outputs": [
    {
     "data": {
      "text/plain": [
       "<lightgbm.basic.Booster at 0x14273636090>"
      ]
     },
     "execution_count": 45,
     "metadata": {},
     "output_type": "execute_result"
    }
   ],
   "source": [
    "final_clf.booster_.save_model('lgbm_clf.txt')"
   ]
  }
 ],
 "metadata": {
  "kernelspec": {
   "display_name": "animal-clf-env",
   "language": "python",
   "name": "python3"
  },
  "language_info": {
   "codemirror_mode": {
    "name": "ipython",
    "version": 3
   },
   "file_extension": ".py",
   "mimetype": "text/x-python",
   "name": "python",
   "nbconvert_exporter": "python",
   "pygments_lexer": "ipython3",
   "version": "3.11.8"
  }
 },
 "nbformat": 4,
 "nbformat_minor": 2
}
